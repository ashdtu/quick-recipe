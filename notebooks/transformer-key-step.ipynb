{
 "cells": [
  {
   "cell_type": "code",
   "execution_count": 1,
   "id": "f6e21b58",
   "metadata": {},
   "outputs": [],
   "source": [
    "import pandas as pd\n",
    "from transformers import AutoTokenizer\n",
    "import numpy as np\n",
    "import torch\n",
    "from sklearn.metrics import classification_report"
   ]
  },
  {
   "cell_type": "code",
   "execution_count": 6,
   "id": "12863944",
   "metadata": {},
   "outputs": [],
   "source": [
    "data = pd.read_csv(\"../youcook2/reviewed_0812.csv\")"
   ]
  },
  {
   "cell_type": "code",
   "execution_count": 2,
   "id": "f01d25db",
   "metadata": {},
   "outputs": [],
   "source": [
    "split_df = pd.read_csv(\"../data/train_val_split.csv\")"
   ]
  },
  {
   "cell_type": "code",
   "execution_count": 3,
   "id": "790e8954",
   "metadata": {},
   "outputs": [],
   "source": [
    "train_url = split_df[split_df.Split == \"train\"][\"VideoUrl\"]\n",
    "val_url = split_df[split_df.Split == \"val\"][\"VideoUrl\"]"
   ]
  },
  {
   "cell_type": "code",
   "execution_count": 4,
   "id": "82f1270d",
   "metadata": {},
   "outputs": [
    {
     "data": {
      "text/plain": [
       "0      https://www.youtube.com/watch?v=k38Al8giI-U\n",
       "1      https://www.youtube.com/watch?v=6uB1pcyBCBw\n",
       "2      https://www.youtube.com/watch?v=91z7e22XGy8\n",
       "3      https://www.youtube.com/watch?v=0B-59Ok_r1Y\n",
       "4      https://www.youtube.com/watch?v=LqCDIssigHo\n",
       "                          ...                     \n",
       "248    https://www.youtube.com/watch?v=Gr7E2bhg0iw\n",
       "249    https://www.youtube.com/watch?v=oP6PR4KfH0A\n",
       "250    https://www.youtube.com/watch?v=qRSZEN6g8jY\n",
       "251    https://www.youtube.com/watch?v=qPSqTqkHhGg\n",
       "252    https://www.youtube.com/watch?v=0qbCigxf_sc\n",
       "Name: VideoUrl, Length: 253, dtype: object"
      ]
     },
     "execution_count": 4,
     "metadata": {},
     "output_type": "execute_result"
    }
   ],
   "source": [
    "train_url"
   ]
  },
  {
   "cell_type": "code",
   "execution_count": 132,
   "id": "3a43ed40",
   "metadata": {},
   "outputs": [
    {
     "data": {
      "text/plain": [
       "(253, 99)"
      ]
     },
     "execution_count": 132,
     "metadata": {},
     "output_type": "execute_result"
    }
   ],
   "source": [
    "len(train_url), len(val_url)"
   ]
  },
  {
   "cell_type": "code",
   "execution_count": 133,
   "id": "d3ec2fb2",
   "metadata": {},
   "outputs": [],
   "source": [
    "num_words = []\n",
    "context_data = []\n",
    "for i in range(data.shape[0]):\n",
    "    curr_text, url = data.iloc[i][\"Sentence\"], data.iloc[i][\"VideoUrl\"]\n",
    "    context = []\n",
    "    for j in range(-3, 3):\n",
    "        index = i+j\n",
    "        if index < 0 or index > data.shape[0] - 1:\n",
    "            continue\n",
    "        context_text, context_url = data.iloc[index][\"Sentence\"], data.iloc[index][\"VideoUrl\"]\n",
    "        if context_url == url:\n",
    "            context.append(context_text)\n",
    "    num_words.append(len(\" \".join(context).split(\" \")))\n",
    "    context_data.append(\" \".join(context))\n",
    "data[\"context\"] = context_data"
   ]
  },
  {
   "cell_type": "code",
   "execution_count": 134,
   "id": "37a56f41",
   "metadata": {},
   "outputs": [],
   "source": [
    "train_df = data[data.VideoUrl.isin(train_url.values)]\n",
    "val_df = data[data.VideoUrl.isin(val_url.values)]"
   ]
  },
  {
   "cell_type": "code",
   "execution_count": 135,
   "id": "75cb83be",
   "metadata": {},
   "outputs": [
    {
     "data": {
      "text/plain": [
       "((10860, 15), 2508)"
      ]
     },
     "execution_count": 135,
     "metadata": {},
     "output_type": "execute_result"
    }
   ],
   "source": [
    "train_df.shape, np.sum(train_df[\"IsUsefulSentence\"].values)"
   ]
  },
  {
   "cell_type": "code",
   "execution_count": 136,
   "id": "075a9781",
   "metadata": {},
   "outputs": [
    {
     "data": {
      "text/plain": [
       "((4651, 15), 1061)"
      ]
     },
     "execution_count": 136,
     "metadata": {},
     "output_type": "execute_result"
    }
   ],
   "source": [
    "val_df.shape, np.sum(val_df[\"IsUsefulSentence\"].values)"
   ]
  },
  {
   "cell_type": "code",
   "execution_count": 8,
   "id": "6e8be19c",
   "metadata": {},
   "outputs": [
    {
     "name": "stdout",
     "output_type": "stream",
     "text": [
      "44.06534090909091 40.0 1 136\n"
     ]
    }
   ],
   "source": [
    "transcripts = []\n",
    "num_sentences = []\n",
    "for url in data[\"VideoUrl\"].unique():\n",
    "    sentences = data[data.VideoUrl == url][\"Sentence\"].tolist()\n",
    "#     story = \" \".join(sentences)\n",
    "#     num_words = len(story.split(\" \"))\n",
    "    num_sentences.append(len(sentences))\n",
    "#     transcripts.append(num_words)\n",
    "\n",
    "print(np.mean(num_sentences), np.median(num_sentences), np.min(num_sentences), np.max(num_sentences))"
   ]
  },
  {
   "cell_type": "code",
   "execution_count": 27,
   "id": "d0bc598d",
   "metadata": {},
   "outputs": [
    {
     "data": {
      "text/plain": [
       "(352, 717.7556818181819, 642.0, 20, 2083)"
      ]
     },
     "execution_count": 27,
     "metadata": {},
     "output_type": "execute_result"
    }
   ],
   "source": [
    "# len(transcripts), np.mean(transcripts), np.median(transcripts), np.min(transcripts), np.max(transcripts)"
   ]
  },
  {
   "cell_type": "code",
   "execution_count": 7,
   "id": "62650903",
   "metadata": {},
   "outputs": [],
   "source": [
    "tokenizer = AutoTokenizer.from_pretrained(\"distilbert-base-uncased\")"
   ]
  },
  {
   "cell_type": "code",
   "execution_count": 8,
   "id": "1a5779c0",
   "metadata": {},
   "outputs": [],
   "source": [
    "def tokenize_text(text):\n",
    "    return tokenizer(text, truncation=True)"
   ]
  },
  {
   "cell_type": "code",
   "execution_count": 9,
   "id": "8fd9ed24",
   "metadata": {},
   "outputs": [],
   "source": [
    "seed = 23456\n",
    "np.random.seed(seed)"
   ]
  },
  {
   "cell_type": "markdown",
   "id": "19ae1db5",
   "metadata": {},
   "source": [
    "### Old approch of train/val split"
   ]
  },
  {
   "cell_type": "code",
   "execution_count": 19,
   "id": "c87a5e88",
   "metadata": {},
   "outputs": [],
   "source": [
    "# train_len = int(0.70*len(data))\n",
    "# indices = list(range(len(data)))\n",
    "# np.random.shuffle(indices)\n",
    "# all_text, all_labels = data[\"Sentence\"].to_numpy(), data[\"IsUsefulSentence\"].to_numpy()\n",
    "# train_data, train_labels = all_text[indices[:train_len]], all_labels[indices[:train_len]]\n",
    "# val_data, val_labels = all_text[indices[train_len:]], all_labels[indices[train_len:]]"
   ]
  },
  {
   "cell_type": "markdown",
   "id": "8b4ed448",
   "metadata": {},
   "source": [
    "### Approach 1: Using current text only"
   ]
  },
  {
   "cell_type": "code",
   "execution_count": 107,
   "id": "c149d8de",
   "metadata": {},
   "outputs": [],
   "source": [
    "train_data, train_labels = train_df[\"Sentence\"].values, train_df[\"IsUsefulSentence\"].values\n",
    "val_data, val_labels = val_df[\"Sentence\"].values, val_df[\"IsUsefulSentence\"].values"
   ]
  },
  {
   "cell_type": "markdown",
   "id": "b7820f23",
   "metadata": {},
   "source": [
    "### Approach 2: Using neighbourhood context"
   ]
  },
  {
   "cell_type": "code",
   "execution_count": 78,
   "id": "39259c4d",
   "metadata": {},
   "outputs": [],
   "source": [
    "# train_data, train_labels = train_df[\"context\"].values, train_df[\"IsUsefulSentence\"].values\n",
    "# val_data, val_labels = val_df[\"context\"].values, val_df[\"IsUsefulSentence\"].values"
   ]
  },
  {
   "cell_type": "code",
   "execution_count": 79,
   "id": "f689c610",
   "metadata": {},
   "outputs": [
    {
     "data": {
      "text/plain": [
       "(10860, 4651)"
      ]
     },
     "execution_count": 79,
     "metadata": {},
     "output_type": "execute_result"
    }
   ],
   "source": [
    "len(train_data), len(val_data)"
   ]
  },
  {
   "cell_type": "code",
   "execution_count": 108,
   "id": "8b1f01a9",
   "metadata": {},
   "outputs": [],
   "source": [
    "train_encodings = tokenizer(list(train_data), truncation=True, padding=True)\n",
    "val_encodings = tokenizer(list(val_data), truncation=True,padding=True)"
   ]
  },
  {
   "cell_type": "code",
   "execution_count": 109,
   "id": "90d636f2",
   "metadata": {},
   "outputs": [],
   "source": [
    "import torch\n",
    "\n",
    "class YouCookData(torch.utils.data.Dataset):\n",
    "    def __init__(self, encodings, labels):\n",
    "        self.encodings = encodings\n",
    "        self.labels = labels\n",
    "\n",
    "    def __getitem__(self, idx):\n",
    "        item = {key: torch.tensor(val[idx]) for key, val in self.encodings.items()}\n",
    "        item['labels'] = torch.tensor(self.labels[idx])\n",
    "        return item\n",
    "\n",
    "    def __len__(self):\n",
    "        return len(self.labels)"
   ]
  },
  {
   "cell_type": "code",
   "execution_count": 110,
   "id": "70b84fcb",
   "metadata": {},
   "outputs": [],
   "source": [
    "train_dataset = YouCookData(train_encodings, list(train_labels))\n",
    "val_dataset = YouCookData(val_encodings, list(val_labels))"
   ]
  },
  {
   "cell_type": "code",
   "execution_count": 111,
   "id": "e7bacc57",
   "metadata": {},
   "outputs": [],
   "source": [
    "from transformers import DataCollatorWithPadding\n",
    "data_collator = DataCollatorWithPadding(tokenizer=tokenizer)"
   ]
  },
  {
   "cell_type": "code",
   "execution_count": 112,
   "id": "4b39f1c9",
   "metadata": {},
   "outputs": [],
   "source": [
    "import evaluate\n",
    "accuracy = evaluate.load(\"accuracy\")"
   ]
  },
  {
   "cell_type": "code",
   "execution_count": 113,
   "id": "b18324cf",
   "metadata": {},
   "outputs": [],
   "source": [
    "def compute_metrics(eval_pred):\n",
    "    predictions, labels = eval_pred\n",
    "    predictions = np.argmax(predictions, axis=1)\n",
    "    return accuracy.compute(predictions=predictions, references=labels)"
   ]
  },
  {
   "cell_type": "code",
   "execution_count": 114,
   "id": "1c25fae3",
   "metadata": {},
   "outputs": [],
   "source": [
    "import os\n",
    "os.environ[\"WANDB_DISABLED\"] = \"true\""
   ]
  },
  {
   "cell_type": "code",
   "execution_count": 115,
   "id": "9812cba9",
   "metadata": {},
   "outputs": [],
   "source": [
    "id2label = {0: \"NEGATIVE\", 1: \"POSITIVE\"}\n",
    "label2id = {\"NEGATIVE\": 0, \"POSITIVE\": 1}"
   ]
  },
  {
   "cell_type": "code",
   "execution_count": 116,
   "id": "dac94c88",
   "metadata": {},
   "outputs": [],
   "source": [
    "from transformers import AutoModelForSequenceClassification, TrainingArguments, Trainer"
   ]
  },
  {
   "cell_type": "code",
   "execution_count": 117,
   "id": "184ec85d",
   "metadata": {},
   "outputs": [
    {
     "name": "stderr",
     "output_type": "stream",
     "text": [
      "Some weights of the model checkpoint at distilbert-base-uncased were not used when initializing DistilBertForSequenceClassification: ['vocab_projector.bias', 'vocab_transform.weight', 'vocab_transform.bias', 'vocab_layer_norm.bias', 'vocab_layer_norm.weight', 'vocab_projector.weight']\n",
      "- This IS expected if you are initializing DistilBertForSequenceClassification from the checkpoint of a model trained on another task or with another architecture (e.g. initializing a BertForSequenceClassification model from a BertForPreTraining model).\n",
      "- This IS NOT expected if you are initializing DistilBertForSequenceClassification from the checkpoint of a model that you expect to be exactly identical (initializing a BertForSequenceClassification model from a BertForSequenceClassification model).\n",
      "Some weights of DistilBertForSequenceClassification were not initialized from the model checkpoint at distilbert-base-uncased and are newly initialized: ['pre_classifier.bias', 'classifier.weight', 'classifier.bias', 'pre_classifier.weight']\n",
      "You should probably TRAIN this model on a down-stream task to be able to use it for predictions and inference.\n"
     ]
    }
   ],
   "source": [
    "model = AutoModelForSequenceClassification.from_pretrained(\n",
    "    \"distilbert-base-uncased\", num_labels=2, id2label=id2label, label2id=label2id\n",
    ")"
   ]
  },
  {
   "cell_type": "code",
   "execution_count": 60,
   "id": "45765ff5",
   "metadata": {},
   "outputs": [
    {
     "name": "stderr",
     "output_type": "stream",
     "text": [
      "Using the `WANDB_DISABLED` environment variable is deprecated and will be removed in v5. Use the --report_to flag to control the integrations used for logging result (for instance --report_to none).\n"
     ]
    }
   ],
   "source": [
    "training_args = TrainingArguments(\n",
    "    output_dir=\"../models/keystep_no_context\",\n",
    "    per_device_train_batch_size=128,\n",
    "    per_device_eval_batch_size=128,\n",
    "    num_train_epochs=3,\n",
    "    weight_decay=0.01,\n",
    "    evaluation_strategy=\"epoch\",\n",
    "    save_strategy=\"epoch\",\n",
    "    logging_dir=\"../logs/\",\n",
    "    load_best_model_at_end=True,\n",
    "    logging_steps=200\n",
    "    \n",
    ")\n",
    "\n",
    "trainer = Trainer(\n",
    "    model=model,\n",
    "    args=training_args,\n",
    "    train_dataset=train_dataset,\n",
    "    eval_dataset=val_dataset,\n",
    "    compute_metrics=compute_metrics,\n",
    ")\n"
   ]
  },
  {
   "cell_type": "code",
   "execution_count": 61,
   "id": "5ba020e5",
   "metadata": {},
   "outputs": [
    {
     "data": {
      "text/plain": [
       "(4651, 4651)"
      ]
     },
     "execution_count": 61,
     "metadata": {},
     "output_type": "execute_result"
    }
   ],
   "source": [
    "len(val_data), len(val_labels)"
   ]
  },
  {
   "cell_type": "code",
   "execution_count": 62,
   "id": "e52decc3",
   "metadata": {},
   "outputs": [
    {
     "name": "stderr",
     "output_type": "stream",
     "text": [
      "/home/mila/a/aasheesh.singh/torch_env/lib/python3.7/site-packages/transformers/optimization.py:395: FutureWarning: This implementation of AdamW is deprecated and will be removed in a future version. Use the PyTorch implementation torch.optim.AdamW instead, or set `no_deprecation_warning=True` to disable this warning\n",
      "  FutureWarning,\n"
     ]
    },
    {
     "data": {
      "text/html": [
       "\n",
       "    <div>\n",
       "      \n",
       "      <progress value='255' max='255' style='width:300px; height:20px; vertical-align: middle;'></progress>\n",
       "      [255/255 03:22, Epoch 3/3]\n",
       "    </div>\n",
       "    <table border=\"1\" class=\"dataframe\">\n",
       "  <thead>\n",
       " <tr style=\"text-align: left;\">\n",
       "      <th>Epoch</th>\n",
       "      <th>Training Loss</th>\n",
       "      <th>Validation Loss</th>\n",
       "      <th>Accuracy</th>\n",
       "    </tr>\n",
       "  </thead>\n",
       "  <tbody>\n",
       "    <tr>\n",
       "      <td>1</td>\n",
       "      <td>No log</td>\n",
       "      <td>0.345065</td>\n",
       "      <td>0.837669</td>\n",
       "    </tr>\n",
       "    <tr>\n",
       "      <td>2</td>\n",
       "      <td>No log</td>\n",
       "      <td>0.352638</td>\n",
       "      <td>0.842829</td>\n",
       "    </tr>\n",
       "    <tr>\n",
       "      <td>3</td>\n",
       "      <td>0.320800</td>\n",
       "      <td>0.373735</td>\n",
       "      <td>0.840249</td>\n",
       "    </tr>\n",
       "  </tbody>\n",
       "</table><p>"
      ],
      "text/plain": [
       "<IPython.core.display.HTML object>"
      ]
     },
     "metadata": {},
     "output_type": "display_data"
    },
    {
     "data": {
      "text/plain": [
       "TrainOutput(global_step=255, training_loss=0.30083263995600684, metrics={'train_runtime': 203.3258, 'train_samples_per_second': 160.235, 'train_steps_per_second': 1.254, 'total_flos': 1534127711669280.0, 'train_loss': 0.30083263995600684, 'epoch': 3.0})"
      ]
     },
     "execution_count": 62,
     "metadata": {},
     "output_type": "execute_result"
    }
   ],
   "source": [
    "trainer.train()"
   ]
  },
  {
   "cell_type": "code",
   "execution_count": 125,
   "id": "3ed723c4",
   "metadata": {},
   "outputs": [
    {
     "name": "stderr",
     "output_type": "stream",
     "text": [
      "Using the `WANDB_DISABLED` environment variable is deprecated and will be removed in v5. Use the --report_to flag to control the integrations used for logging result (for instance --report_to none).\n"
     ]
    }
   ],
   "source": [
    "model = AutoModelForSequenceClassification.from_pretrained(\"../models/keystep_no_context/checkpoint-170/\")\n",
    "\n",
    "training_args = TrainingArguments(\n",
    "    output_dir=\"../models/\",\n",
    "    per_device_train_batch_size=128,\n",
    "    per_device_eval_batch_size=128,\n",
    "    num_train_epochs=3,\n",
    "    weight_decay=0.01,\n",
    "    evaluation_strategy=\"epoch\",\n",
    "    save_strategy=\"epoch\",\n",
    "    logging_dir=\"../logs/\",\n",
    "    load_best_model_at_end=True,\n",
    "    logging_steps=50\n",
    "    \n",
    ")\n",
    "\n",
    "trainer = Trainer(\n",
    "    model=model,\n",
    "    args=training_args,\n",
    "    train_dataset=train_dataset,\n",
    "    eval_dataset=val_dataset,\n",
    "    compute_metrics=compute_metrics,\n",
    ")\n"
   ]
  },
  {
   "cell_type": "code",
   "execution_count": 32,
   "id": "8ac140a1",
   "metadata": {},
   "outputs": [],
   "source": [
    "pred_val_labels = data[\"PredUseful\"].to_numpy()[indices[train_len:]]"
   ]
  },
  {
   "cell_type": "markdown",
   "id": "f47cc31c",
   "metadata": {},
   "source": [
    "### Key Clip Identification: SRL results "
   ]
  },
  {
   "cell_type": "code",
   "execution_count": 37,
   "id": "5d85aa36",
   "metadata": {},
   "outputs": [
    {
     "name": "stdout",
     "output_type": "stream",
     "text": [
      "              precision    recall  f1-score   support\n",
      "\n",
      "           0       0.90      0.54      0.67      3561\n",
      "           1       0.35      0.81      0.49      1093\n",
      "\n",
      "    accuracy                           0.60      4654\n",
      "   macro avg       0.63      0.67      0.58      4654\n",
      "weighted avg       0.77      0.60      0.63      4654\n",
      "\n"
     ]
    }
   ],
   "source": [
    "print(classification_report(val_labels, pred_val_labels))"
   ]
  },
  {
   "cell_type": "code",
   "execution_count": 126,
   "id": "c17cf565",
   "metadata": {},
   "outputs": [
    {
     "data": {
      "text/html": [],
      "text/plain": [
       "<IPython.core.display.HTML object>"
      ]
     },
     "metadata": {},
     "output_type": "display_data"
    }
   ],
   "source": [
    "with torch.no_grad():\n",
    "    logits = trainer.predict(val_dataset)\n",
    "\n",
    "pred = logits.predictions\n",
    "pred = torch.sigmoid(torch.from_numpy(pred))\n",
    "pred = torch.argmax(pred,dim=1)"
   ]
  },
  {
   "cell_type": "markdown",
   "id": "4d03cab3",
   "metadata": {},
   "source": [
    "### Key Clip Identification: DistilBERT"
   ]
  },
  {
   "cell_type": "markdown",
   "id": "10c4356c",
   "metadata": {},
   "source": [
    "## Result: No context and old shuffle"
   ]
  },
  {
   "cell_type": "code",
   "execution_count": 109,
   "id": "683f5ef4",
   "metadata": {},
   "outputs": [
    {
     "name": "stdout",
     "output_type": "stream",
     "text": [
      "              precision    recall  f1-score   support\n",
      "\n",
      "           0       0.92      0.86      0.89      3561\n",
      "           1       0.63      0.75      0.68      1093\n",
      "\n",
      "    accuracy                           0.84      4654\n",
      "   macro avg       0.77      0.81      0.79      4654\n",
      "weighted avg       0.85      0.84      0.84      4654\n",
      "\n"
     ]
    }
   ],
   "source": [
    "print(classification_report(val_labels, pred.numpy()))"
   ]
  },
  {
   "cell_type": "markdown",
   "id": "9d9451c2",
   "metadata": {},
   "source": [
    "## Result: Approach 1: No context and using new split (Best checkpoint - 170)"
   ]
  },
  {
   "cell_type": "code",
   "execution_count": 124,
   "id": "c0fd7747",
   "metadata": {},
   "outputs": [
    {
     "name": "stdout",
     "output_type": "stream",
     "text": [
      "              precision    recall  f1-score   support\n",
      "\n",
      "           0       0.90      0.89      0.90      3590\n",
      "           1       0.64      0.67      0.66      1061\n",
      "\n",
      "    accuracy                           0.84      4651\n",
      "   macro avg       0.77      0.78      0.78      4651\n",
      "weighted avg       0.84      0.84      0.84      4651\n",
      "\n"
     ]
    }
   ],
   "source": [
    "print(classification_report(val_labels, pred.numpy()))"
   ]
  },
  {
   "cell_type": "code",
   "execution_count": 127,
   "id": "b2010fc3",
   "metadata": {},
   "outputs": [
    {
     "name": "stdout",
     "output_type": "stream",
     "text": [
      "              precision    recall  f1-score   support\n",
      "\n",
      "           0       0.91      0.89      0.90      3590\n",
      "           1       0.65      0.69      0.67      1061\n",
      "\n",
      "    accuracy                           0.84      4651\n",
      "   macro avg       0.78      0.79      0.78      4651\n",
      "weighted avg       0.85      0.84      0.84      4651\n",
      "\n"
     ]
    }
   ],
   "source": [
    "print(classification_report(val_labels, pred.numpy()))"
   ]
  },
  {
   "cell_type": "markdown",
   "id": "b46b8a4d",
   "metadata": {},
   "source": [
    "## Result: Approach 2: With context  and new split (Best checkpoint-255)"
   ]
  },
  {
   "cell_type": "code",
   "execution_count": 47,
   "id": "501c86eb",
   "metadata": {},
   "outputs": [
    {
     "name": "stdout",
     "output_type": "stream",
     "text": [
      "              precision    recall  f1-score   support\n",
      "\n",
      "           0       0.84      0.91      0.87      3590\n",
      "           1       0.57      0.42      0.49      1061\n",
      "\n",
      "    accuracy                           0.80      4651\n",
      "   macro avg       0.71      0.66      0.68      4651\n",
      "weighted avg       0.78      0.80      0.78      4651\n",
      "\n"
     ]
    }
   ],
   "source": [
    "print(classification_report(val_labels, pred.numpy()))"
   ]
  },
  {
   "cell_type": "code",
   "execution_count": 106,
   "id": "14d33009",
   "metadata": {},
   "outputs": [
    {
     "name": "stdout",
     "output_type": "stream",
     "text": [
      "              precision    recall  f1-score   support\n",
      "\n",
      "           0       0.85      0.89      0.87      3590\n",
      "           1       0.56      0.48      0.51      1061\n",
      "\n",
      "    accuracy                           0.80      4651\n",
      "   macro avg       0.71      0.68      0.69      4651\n",
      "weighted avg       0.79      0.80      0.79      4651\n",
      "\n"
     ]
    }
   ],
   "source": [
    "print(classification_report(val_labels, pred.numpy()))"
   ]
  },
  {
   "cell_type": "code",
   "execution_count": null,
   "id": "360c1992",
   "metadata": {},
   "outputs": [],
   "source": []
  }
 ],
 "metadata": {
  "kernelspec": {
   "display_name": "Python 3 (ipykernel)",
   "language": "python",
   "name": "python3"
  },
  "language_info": {
   "codemirror_mode": {
    "name": "ipython",
    "version": 3
   },
   "file_extension": ".py",
   "mimetype": "text/x-python",
   "name": "python",
   "nbconvert_exporter": "python",
   "pygments_lexer": "ipython3",
   "version": "3.7.7"
  }
 },
 "nbformat": 4,
 "nbformat_minor": 5
}
