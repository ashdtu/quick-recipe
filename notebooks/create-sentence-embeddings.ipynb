{
 "cells": [
  {
   "cell_type": "code",
   "execution_count": 1,
   "id": "31ecf963",
   "metadata": {},
   "outputs": [],
   "source": [
    "import pickle as pkl\n",
    "from transformers import DistilBertTokenizer, DistilBertModel\n",
    "from sentence_transformers import SentenceTransformer\n",
    "from tqdm import tqdm as tqdm\n",
    "import numpy as np\n",
    "import torch"
   ]
  },
  {
   "cell_type": "markdown",
   "id": "023e1427",
   "metadata": {},
   "source": [
    "### Import image, text data"
   ]
  },
  {
   "cell_type": "code",
   "execution_count": 2,
   "id": "35f9b95f",
   "metadata": {},
   "outputs": [],
   "source": [
    "with open(\"../data/img_text_comb_updated.pkl\", \"rb\") as f:\n",
    "    data_pkl = pkl.load(f)"
   ]
  },
  {
   "cell_type": "code",
   "execution_count": 3,
   "id": "0748f70d",
   "metadata": {},
   "outputs": [
    {
     "name": "stderr",
     "output_type": "stream",
     "text": [
      "Some weights of the model checkpoint at distilbert-base-uncased were not used when initializing DistilBertModel: ['vocab_projector.weight', 'vocab_layer_norm.weight', 'vocab_layer_norm.bias', 'vocab_transform.bias', 'vocab_projector.bias', 'vocab_transform.weight']\n",
      "- This IS expected if you are initializing DistilBertModel from the checkpoint of a model trained on another task or with another architecture (e.g. initializing a BertForSequenceClassification model from a BertForPreTraining model).\n",
      "- This IS NOT expected if you are initializing DistilBertModel from the checkpoint of a model that you expect to be exactly identical (initializing a BertForSequenceClassification model from a BertForSequenceClassification model).\n"
     ]
    }
   ],
   "source": [
    "tokenizer = DistilBertTokenizer.from_pretrained('distilbert-base-uncased')\n",
    "model = DistilBertModel.from_pretrained(\"distilbert-base-uncased\")"
   ]
  },
  {
   "cell_type": "code",
   "execution_count": 7,
   "id": "382bf35a",
   "metadata": {},
   "outputs": [],
   "source": [
    "device = \"cuda:0\" if torch.cuda.is_available() else \"cpu\""
   ]
  },
  {
   "cell_type": "code",
   "execution_count": 9,
   "id": "e12800e8",
   "metadata": {},
   "outputs": [],
   "source": [
    "model = model.to(device)"
   ]
  },
  {
   "cell_type": "markdown",
   "id": "c5ff7680",
   "metadata": {},
   "source": [
    "### DistilBERT base embeddings"
   ]
  },
  {
   "cell_type": "code",
   "execution_count": 10,
   "id": "b0bde8ee",
   "metadata": {},
   "outputs": [
    {
     "name": "stderr",
     "output_type": "stream",
     "text": [
      "100%|██████████████████████████████████████████████████████████████████████████████████████████████████████████████████████████████████████████████████████████████████████████████████████████████████████| 342/342 [00:30<00:00, 11.25it/s]\n"
     ]
    }
   ],
   "source": [
    "model.eval()\n",
    "with torch.no_grad():\n",
    "    for key in tqdm(data_pkl.keys()):\n",
    "        sentences = data_pkl[key][\"Sentence\"]\n",
    "        encoded_input = tokenizer(list(sentences), return_tensors='pt', truncation=True, padding=True).to(device)\n",
    "        \n",
    "        # CLS token at Oth index used as sentence embedding\n",
    "        embeddings = model(**encoded_input)[\"last_hidden_state\"][:, 0, :]\n",
    "        data_pkl[key][\"text_emb(DistilBERT)\"] = embeddings.cpu().numpy()"
   ]
  },
  {
   "cell_type": "markdown",
   "id": "e6db1937",
   "metadata": {},
   "source": [
    "## MiniLM-L6 Sentence transformer Embeddings"
   ]
  },
  {
   "cell_type": "code",
   "execution_count": null,
   "id": "dbb02d23",
   "metadata": {},
   "outputs": [],
   "source": [
    "model = SentenceTransformer('sentence-transformers/all-MiniLM-L6-v2').to(device)\n",
    "for key in tqdm(data_pkl.keys()):\n",
    "    sentences = data_pkl[key][\"Sentence\"]\n",
    "    embeddings = model.encode(sentences)\n",
    "    data_pkl[key][\"text_emb(all-MiniLM-L6-v2)\"] = embeddings"
   ]
  },
  {
   "cell_type": "code",
   "execution_count": null,
   "id": "2140a822",
   "metadata": {},
   "outputs": [],
   "source": [
    "with open(\"../data/img_text_comb_updated_v3.pkl\", \"wb\") as f:\n",
    "    pkl.dump(data_pkl, f)"
   ]
  }
 ],
 "metadata": {
  "kernelspec": {
   "display_name": "Python 3 (ipykernel)",
   "language": "python",
   "name": "python3"
  },
  "language_info": {
   "codemirror_mode": {
    "name": "ipython",
    "version": 3
   },
   "file_extension": ".py",
   "mimetype": "text/x-python",
   "name": "python",
   "nbconvert_exporter": "python",
   "pygments_lexer": "ipython3",
   "version": "3.7.7"
  }
 },
 "nbformat": 4,
 "nbformat_minor": 5
}
