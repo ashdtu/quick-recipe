{
 "cells": [
  {
   "cell_type": "code",
   "execution_count": 1,
   "id": "91f11f70-0d32-4b4e-9e21-64240c929aeb",
   "metadata": {
    "tags": []
   },
   "outputs": [],
   "source": [
    "%load_ext autoreload\n",
    "%autoreload 2\n",
    "\n",
    "import sys\n",
    "#sys.path.append('../src/processing/')\n",
    "sys.path.append('../../video_features')"
   ]
  },
  {
   "cell_type": "markdown",
   "id": "ad0d49ce-8f2e-4fa3-802b-679b292d3654",
   "metadata": {},
   "source": [
    "## Video Pipeline"
   ]
  },
  {
   "cell_type": "code",
   "execution_count": 2,
   "id": "f4a5877e-146a-4625-9d27-81042d4d7126",
   "metadata": {
    "tags": []
   },
   "outputs": [],
   "source": [
    "import os\n",
    "from video_pipeline import downld_vids, process_video\n",
    "from models.resnet.extract_resnet import ExtractResNet\n",
    "from utils.utils import build_cfg_path\n",
    "from omegaconf import OmegaConf\n",
    "import torch\n",
    "import numpy as np\n",
    "import pandas as pd"
   ]
  },
  {
   "cell_type": "code",
   "execution_count": 3,
   "id": "0e70506b-b03f-446f-87e6-4c9123fdaea3",
   "metadata": {
    "tags": []
   },
   "outputs": [
    {
     "name": "stdout",
     "output_type": "stream",
     "text": [
      "nvcc: NVIDIA (R) Cuda compiler driver\n",
      "Copyright (c) 2005-2021 NVIDIA Corporation\n",
      "Built on Sun_Feb_14_21:12:58_PST_2021\n",
      "Cuda compilation tools, release 11.2, V11.2.152\n",
      "Build cuda_11.2.r11.2/compiler.29618528_0\n",
      "/bin/bash: nvidia-smi: command not found\n"
     ]
    }
   ],
   "source": [
    "!nvcc --version\n",
    "!nvidia-smi"
   ]
  },
  {
   "cell_type": "code",
   "execution_count": null,
   "id": "4d797572-1da4-4568-85c3-7f3e79cf0028",
   "metadata": {
    "tags": []
   },
   "outputs": [],
   "source": [
    "device = 'cuda' if torch.cuda.is_available() else 'cpu'\n",
    "torch.cuda.get_device_name(0)"
   ]
  },
  {
   "cell_type": "markdown",
   "id": "c7e89d4f-7a21-45b4-85bd-0a8a2a5d382e",
   "metadata": {},
   "source": [
    "### Extract feature represenation from video"
   ]
  },
  {
   "cell_type": "code",
   "execution_count": 7,
   "id": "6a10ba6e-cb2b-4917-8de4-68eb5d67a977",
   "metadata": {
    "tags": []
   },
   "outputs": [],
   "source": [
    "def extract_vid_features(video_path, fps):\n",
    "    # Select the feature type \n",
    "    feature_type = 'resnet'\n",
    "    model_name = 'resnet50'\n",
    "\n",
    "    # Load and patch the config\n",
    "    args = OmegaConf.load(build_cfg_path(feature_type))\n",
    "    args.feature_type = feature_type\n",
    "    args.model_name = model_name\n",
    "    args.video_paths = [video_path]\n",
    "    args.batch_size = 32\n",
    "    args.extraction_fps = fps\n",
    "    # args.show_pred = True\n",
    "\n",
    "    # Load the model\n",
    "    extractor = ExtractResNet(args)\n",
    "\n",
    "    # Extract features\n",
    "    print(f'Extracting for {video_path}')\n",
    "    feature_dict = extractor.extract(video_path)\n",
    "    features = feature_dict[feature_type]\n",
    "    timestamp = feature_dict['timestamps_ms'] / 1000\n",
    "    print(features, timestamp, sep = '\\n') \n",
    "    return features, timestamp\n",
    "\n",
    "def to_dataframe(features, timestamp):\n",
    "    col_len = features.shape[1]\n",
    "    col_names = list(range(col_len))\n",
    "    df = pd.DataFrame(data = features, columns = col_names)\n",
    "    df['timestamp'] = timestamp\n",
    "    return df"
   ]
  },
  {
   "cell_type": "code",
   "execution_count": 8,
   "id": "bce1e8d6-d6f6-4bc0-ad6c-e28fb5741c81",
   "metadata": {
    "tags": []
   },
   "outputs": [],
   "source": [
    "def run_video_pipeline(yt_ids_file, dest_path):\n",
    "    # Full video -> resnet50 feature extraction pipeline\n",
    "    vid_dump_folder = 'tmp/videos'\n",
    "    csv_path = os.path.join(dest_path, 'features')\n",
    "    for yt_id, vid_path in downld_vids(yt_ids_file, vid_dump_folder):\n",
    "        #extract resnet50 features from the video\n",
    "        print(yt_id, vid_path)\n",
    "        features, timestamp = extract_vid_features(vid_path, 2)\n",
    "        df =  to_dataframe(features, timestamp)\n",
    "        #store the features in csv\n",
    "        df.to_csv(os.path.join(csv_path, yt_id, 'resnet50_features.csv', header = False))\n",
    "        #delete the video\n",
    "        os.remove(vid_path)\n",
    "        print(yt_id, 'is complete!')"
   ]
  },
  {
   "cell_type": "markdown",
   "id": "8ceceaa2-86e6-44a0-a876-45ff16a3c3eb",
   "metadata": {},
   "source": [
    "### Get Youtube Ids"
   ]
  },
  {
   "cell_type": "code",
   "execution_count": 9,
   "id": "54cbd3ef-e8fe-4530-988e-4b7a785562e4",
   "metadata": {
    "tags": []
   },
   "outputs": [],
   "source": [
    "def dump_yt_ids(key_clip_training_file, dest):\n",
    "    dest_path = os.path.abspath(dest)\n",
    "    if not os.path.isdir(dest_path):\n",
    "        os.mkdir(dest_path)\n",
    "    df = pd.read_csv(key_clip_training_file)\n",
    "    yt_ids = df['VideoUrl'].str[-11:].unique().tolist()\n",
    "    n = len(yt_ids)\n",
    "    step = 10\n",
    "    cnt = 0\n",
    "    for i in range(0, n, step):\n",
    "        grp_ids = yt_ids[i:min(i+step, n)]\n",
    "        ids_file = os.path.join(dest_path, f'{cnt}.txt')\n",
    "        with open(ids_file, 'w+') as f:\n",
    "            f.write('\\n'.join(grp_ids))\n",
    "        f.closed\n",
    "        cnt += 1"
   ]
  },
  {
   "cell_type": "code",
   "execution_count": 91,
   "id": "e74c9c6f-9eff-4103-8718-4cf7b0a7f15b",
   "metadata": {
    "tags": []
   },
   "outputs": [],
   "source": [
    "key_clip_training_file = 'reviewed_0812_vid_5s.csv'\n",
    "yt_id_dump_folder = 'tmp/youtube_ids'\n",
    "dump_yt_ids(key_clip_training_file, yt_id_dump_folder)"
   ]
  },
  {
   "cell_type": "markdown",
   "id": "7b558a7f-f8d3-4030-8e4b-4c2f94e3d225",
   "metadata": {},
   "source": [
    "### Run the pipeline"
   ]
  },
  {
   "cell_type": "code",
   "execution_count": null,
   "id": "90c32429-0907-4c89-b020-02b91e711ce6",
   "metadata": {
    "tags": []
   },
   "outputs": [],
   "source": [
    "run_video_pipeline('tmp/youtube_ids/1.txt', 'tmp')"
   ]
  },
  {
   "cell_type": "code",
   "execution_count": null,
   "id": "df28a54d-9d87-408d-a9f8-e71b1e05bc56",
   "metadata": {
    "tags": []
   },
   "outputs": [],
   "source": [
    "# Select the feature type \n",
    "feature_type = 'resnet'\n",
    "model_name = 'resnet152'\n",
    "# Load and patch the config\n",
    "args = OmegaConf.load(build_cfg_path(feature_type))\n",
    "args.feature_type = feature_type\n",
    "args.model_name = model_name\n",
    "args.video_paths = ['../../video_features/sample/v_GGSY1Qvo990.mp4']\n",
    "args.batch_size = 32\n",
    "args.extraction_fps = 5\n",
    "# args.show_pred = True\n",
    "\n",
    "# Load the model\n",
    "extractor = ExtractResNet(args)\n",
    "\n",
    "# Extract features\n",
    "for video_path in args.video_paths:\n",
    "    print(f'Extracting for {video_path}')\n",
    "    feature_dict = extractor.extract(video_path)\n",
    "    [(print(k), print(v.shape), print(v)) for k, v in feature_dict.items()]"
   ]
  },
  {
   "cell_type": "markdown",
   "id": "eecaf050-2a0a-4cfc-9a1c-f9f2c4555a82",
   "metadata": {
    "jp-MarkdownHeadingCollapsed": true,
    "tags": []
   },
   "source": [
    "### Align and map transcripts to video"
   ]
  },
  {
   "cell_type": "code",
   "execution_count": 11,
   "id": "98f6b11b-1d8a-49b9-8c4f-31eec3ae629b",
   "metadata": {
    "tags": []
   },
   "outputs": [],
   "source": [
    "def to_seconds(timestamp):\n",
    "    t = timestamp.strip().split(':')\n",
    "    h, m, s = t[-3] if len(t) == 3 else '0', t[-2], t[-1]\n",
    "        \n",
    "    return int(h) * 3600 + int(m) * 60 + float(s)\n",
    "            \n",
    "t2sec = np.vectorize(to_seconds)"
   ]
  },
  {
   "cell_type": "code",
   "execution_count": 55,
   "id": "18eec7a8-b9f9-4ea5-a22e-0559c0a5ba4f",
   "metadata": {
    "tags": []
   },
   "outputs": [],
   "source": [
    "def align_text_video(text_df, v_df, ext):\n",
    "    timestamps = v_df[v_df.columns[-1]].tolist()\n",
    "    res = []\n",
    "    indices = []\n",
    "    i = 0\n",
    "    n = len(timestamps)\n",
    "    for row in text_df[['RowNumber', 'IsUsefulSentence', 'start_time', 'end_time']].iterrows():\n",
    "        row_id, label, st, et = tuple(row[1].tolist())\n",
    "        st -= ext\n",
    "        et += ext\n",
    "        while i + 1 > n:\n",
    "            i -= 1\n",
    "        while i > 0 and timestamps[i] > st:\n",
    "            i -= 1\n",
    "        while i < n and timestamps[i] < st:\n",
    "            i += 1\n",
    "        while i < n and st <= timestamps[i] < et:\n",
    "            res.append((row_id, label))\n",
    "            indices.append(i)\n",
    "            i += 1\n",
    "    assert len(indices) == len(res)\n",
    "    df = pd.DataFrame(res, columns = ['row_number', 'label'])\n",
    "    return pd.concat([v_df.iloc[indices].reset_index(drop=True), df], axis = 1)"
   ]
  },
  {
   "cell_type": "code",
   "execution_count": 15,
   "id": "6a9d855d-7dd8-4c26-93d9-9fd09e271bbf",
   "metadata": {
    "tags": []
   },
   "outputs": [
    {
     "data": {
      "text/html": [
       "<div>\n",
       "<style scoped>\n",
       "    .dataframe tbody tr th:only-of-type {\n",
       "        vertical-align: middle;\n",
       "    }\n",
       "\n",
       "    .dataframe tbody tr th {\n",
       "        vertical-align: top;\n",
       "    }\n",
       "\n",
       "    .dataframe thead th {\n",
       "        text-align: right;\n",
       "    }\n",
       "</style>\n",
       "<table border=\"1\" class=\"dataframe\">\n",
       "  <thead>\n",
       "    <tr style=\"text-align: right;\">\n",
       "      <th></th>\n",
       "      <th>No</th>\n",
       "      <th>Title</th>\n",
       "      <th>VideoUrl</th>\n",
       "      <th>TimeStamp</th>\n",
       "      <th>Sentence</th>\n",
       "      <th>RowNumber</th>\n",
       "      <th>IsUsefulSentence</th>\n",
       "      <th>Key steps</th>\n",
       "      <th>Verb</th>\n",
       "      <th>Object(directly related with Verb)</th>\n",
       "      <th>Location</th>\n",
       "      <th>Time</th>\n",
       "      <th>Temperature</th>\n",
       "      <th>Other important phrase(like with</th>\n",
       "      <th>Video Pred</th>\n",
       "      <th>Clip IDs</th>\n",
       "      <th>yt_id</th>\n",
       "      <th>start_time</th>\n",
       "      <th>end_time</th>\n",
       "    </tr>\n",
       "  </thead>\n",
       "  <tbody>\n",
       "    <tr>\n",
       "      <th>0</th>\n",
       "      <td>1</td>\n",
       "      <td>pizza marghetta</td>\n",
       "      <td>https://www.youtube.com/watch?v=FHvZgt3ExDI</td>\n",
       "      <td>00:00.1</td>\n",
       "      <td>guys , jason hill here today.</td>\n",
       "      <td>0</td>\n",
       "      <td>0</td>\n",
       "      <td>NaN</td>\n",
       "      <td>NaN</td>\n",
       "      <td>NaN</td>\n",
       "      <td>NaN</td>\n",
       "      <td>NaN</td>\n",
       "      <td>NaN</td>\n",
       "      <td>NaN</td>\n",
       "      <td>look grape</td>\n",
       "      <td>FHvZgt3ExDI_0001</td>\n",
       "      <td>FHvZgt3ExDI</td>\n",
       "      <td>0.1</td>\n",
       "      <td>1.5</td>\n",
       "    </tr>\n",
       "    <tr>\n",
       "      <th>1</th>\n",
       "      <td>2</td>\n",
       "      <td>pizza marghetta</td>\n",
       "      <td>https://www.youtube.com/watch?v=FHvZgt3ExDI</td>\n",
       "      <td>00:01.5</td>\n",
       "      <td>and i 'm with chef great stillman at repor res...</td>\n",
       "      <td>1</td>\n",
       "      <td>0</td>\n",
       "      <td>NaN</td>\n",
       "      <td>NaN</td>\n",
       "      <td>NaN</td>\n",
       "      <td>NaN</td>\n",
       "      <td>NaN</td>\n",
       "      <td>NaN</td>\n",
       "      <td>NaN</td>\n",
       "      <td>look grape, close grape</td>\n",
       "      <td>FHvZgt3ExDI_0001, FHvZgt3ExDI_0002</td>\n",
       "      <td>FHvZgt3ExDI</td>\n",
       "      <td>1.5</td>\n",
       "      <td>7.3</td>\n",
       "    </tr>\n",
       "    <tr>\n",
       "      <th>2</th>\n",
       "      <td>3</td>\n",
       "      <td>pizza marghetta</td>\n",
       "      <td>https://www.youtube.com/watch?v=FHvZgt3ExDI</td>\n",
       "      <td>00:07.3</td>\n",
       "      <td>what are we going to have?</td>\n",
       "      <td>2</td>\n",
       "      <td>0</td>\n",
       "      <td>NaN</td>\n",
       "      <td>NaN</td>\n",
       "      <td>NaN</td>\n",
       "      <td>NaN</td>\n",
       "      <td>NaN</td>\n",
       "      <td>NaN</td>\n",
       "      <td>NaN</td>\n",
       "      <td>close grape</td>\n",
       "      <td>FHvZgt3ExDI_0002</td>\n",
       "      <td>FHvZgt3ExDI</td>\n",
       "      <td>7.3</td>\n",
       "      <td>8.2</td>\n",
       "    </tr>\n",
       "    <tr>\n",
       "      <th>3</th>\n",
       "      <td>4</td>\n",
       "      <td>pizza marghetta</td>\n",
       "      <td>https://www.youtube.com/watch?v=FHvZgt3ExDI</td>\n",
       "      <td>00:08.2</td>\n",
       "      <td>we 're going to have a traditional margherita ...</td>\n",
       "      <td>3</td>\n",
       "      <td>0</td>\n",
       "      <td>NaN</td>\n",
       "      <td>NaN</td>\n",
       "      <td>NaN</td>\n",
       "      <td>NaN</td>\n",
       "      <td>NaN</td>\n",
       "      <td>NaN</td>\n",
       "      <td>NaN</td>\n",
       "      <td>close grape, take pizza, close cupboard</td>\n",
       "      <td>FHvZgt3ExDI_0002, FHvZgt3ExDI_0003, FHvZgt3ExD...</td>\n",
       "      <td>FHvZgt3ExDI</td>\n",
       "      <td>8.2</td>\n",
       "      <td>15.9</td>\n",
       "    </tr>\n",
       "    <tr>\n",
       "      <th>4</th>\n",
       "      <td>5</td>\n",
       "      <td>pizza marghetta</td>\n",
       "      <td>https://www.youtube.com/watch?v=FHvZgt3ExDI</td>\n",
       "      <td>00:15.9</td>\n",
       "      <td>so this is the dough.</td>\n",
       "      <td>4</td>\n",
       "      <td>0</td>\n",
       "      <td>NaN</td>\n",
       "      <td>NaN</td>\n",
       "      <td>NaN</td>\n",
       "      <td>NaN</td>\n",
       "      <td>NaN</td>\n",
       "      <td>NaN</td>\n",
       "      <td>NaN</td>\n",
       "      <td>close cupboard</td>\n",
       "      <td>FHvZgt3ExDI_0004</td>\n",
       "      <td>FHvZgt3ExDI</td>\n",
       "      <td>15.9</td>\n",
       "      <td>17.4</td>\n",
       "    </tr>\n",
       "  </tbody>\n",
       "</table>\n",
       "</div>"
      ],
      "text/plain": [
       "   No            Title                                     VideoUrl TimeStamp  \\\n",
       "0   1  pizza marghetta  https://www.youtube.com/watch?v=FHvZgt3ExDI   00:00.1   \n",
       "1   2  pizza marghetta  https://www.youtube.com/watch?v=FHvZgt3ExDI   00:01.5   \n",
       "2   3  pizza marghetta  https://www.youtube.com/watch?v=FHvZgt3ExDI   00:07.3   \n",
       "3   4  pizza marghetta  https://www.youtube.com/watch?v=FHvZgt3ExDI   00:08.2   \n",
       "4   5  pizza marghetta  https://www.youtube.com/watch?v=FHvZgt3ExDI   00:15.9   \n",
       "\n",
       "                                            Sentence  RowNumber  \\\n",
       "0                      guys , jason hill here today.          0   \n",
       "1  and i 'm with chef great stillman at repor res...          1   \n",
       "2                         what are we going to have?          2   \n",
       "3  we 're going to have a traditional margherita ...          3   \n",
       "4                              so this is the dough.          4   \n",
       "\n",
       "   IsUsefulSentence Key steps Verb Object(directly related with Verb)  \\\n",
       "0                 0       NaN  NaN                                NaN   \n",
       "1                 0       NaN  NaN                                NaN   \n",
       "2                 0       NaN  NaN                                NaN   \n",
       "3                 0       NaN  NaN                                NaN   \n",
       "4                 0       NaN  NaN                                NaN   \n",
       "\n",
       "  Location Time Temperature Other important phrase(like with  \\\n",
       "0      NaN  NaN         NaN                              NaN   \n",
       "1      NaN  NaN         NaN                              NaN   \n",
       "2      NaN  NaN         NaN                              NaN   \n",
       "3      NaN  NaN         NaN                              NaN   \n",
       "4      NaN  NaN         NaN                              NaN   \n",
       "\n",
       "                                Video Pred  \\\n",
       "0                               look grape   \n",
       "1                  look grape, close grape   \n",
       "2                              close grape   \n",
       "3  close grape, take pizza, close cupboard   \n",
       "4                           close cupboard   \n",
       "\n",
       "                                            Clip IDs        yt_id  start_time  \\\n",
       "0                                   FHvZgt3ExDI_0001  FHvZgt3ExDI         0.1   \n",
       "1                 FHvZgt3ExDI_0001, FHvZgt3ExDI_0002  FHvZgt3ExDI         1.5   \n",
       "2                                   FHvZgt3ExDI_0002  FHvZgt3ExDI         7.3   \n",
       "3  FHvZgt3ExDI_0002, FHvZgt3ExDI_0003, FHvZgt3ExD...  FHvZgt3ExDI         8.2   \n",
       "4                                   FHvZgt3ExDI_0004  FHvZgt3ExDI        15.9   \n",
       "\n",
       "   end_time  \n",
       "0       1.5  \n",
       "1       7.3  \n",
       "2       8.2  \n",
       "3      15.9  \n",
       "4      17.4  "
      ]
     },
     "execution_count": 15,
     "metadata": {},
     "output_type": "execute_result"
    }
   ],
   "source": [
    "# load the information\n",
    "key_clip_training_file = 'reviewed_0812_vid_5s.csv'\n",
    "df = pd.read_csv(key_clip_training_file)\n",
    "#extract yt_id\n",
    "df['yt_id'] = df['VideoUrl'].str.extract('=(.+)')[0]\n",
    "\n",
    "#convert time to seconds\n",
    "df['start_time'] = t2sec(df['TimeStamp'])\n",
    "\n",
    "#get end time\n",
    "df['end_time'] = df[['yt_id', 'start_time']].groupby('yt_id').shift(-1, fill_value = 0)\n",
    "end_time = df['end_time']\n",
    "start_time = df['start_time']\n",
    "df['end_time'] = end_time.where(end_time != 0, 5 + start_time)\n",
    "#df[['yt_id', 'start_time', 'end_time']].groupby('yt_id').last()\n",
    "df.head(5)"
   ]
  },
  {
   "cell_type": "code",
   "execution_count": null,
   "id": "ed6d7c9b-abee-4ba2-9ae1-de21cc12150b",
   "metadata": {
    "tags": []
   },
   "outputs": [],
   "source": [
    "#Align text and video\n",
    "features = '/network/scratch/s/subhrajyoti.dasgupta/yc2/features/'\n",
    "yt_ids = os.listdir(features)\n",
    "src_name = 'master_features_with_ts_v2.csv'\n",
    "dest_name = 'master_features_with_label.csv'\n",
    "\n",
    "cnt = 1\n",
    "for yt_id in yt_ids:\n",
    "    #get text corresponding to yt_id\n",
    "    text_by_yt_id = df[df['yt_id'] == yt_id]\n",
    "    #load video df corresponding to yt_id\n",
    "    src_path = os.path.join(features, yt_id, src_name)\n",
    "    df_v = pd.read_csv(src_path, header = None)\n",
    "    \n",
    "    #align\n",
    "    df_nv = align_text_video(text_by_yt_id, df_v.drop([0, 1], axis = 1), ext)\n",
    "    dest_path = os.path.join(features, yt_id, dest_name)\n",
    "    df_nv.to_csv(dest_path, header = False, index = False)\n",
    "    print(f\"{cnt}: {yt_id} - alignment is complete!\")\n",
    "    cnt += 1"
   ]
  },
  {
   "cell_type": "markdown",
   "id": "00d98d0d-0d5a-4f57-a217-5f956f329ac4",
   "metadata": {
    "jp-MarkdownHeadingCollapsed": true,
    "tags": []
   },
   "source": [
    "### Video to Clips (ResNet features)"
   ]
  },
  {
   "cell_type": "markdown",
   "id": "4a961c01-12ca-403c-8a69-7b5048f4eb6c",
   "metadata": {},
   "source": [
    "#### Dataframe to Tensor"
   ]
  },
  {
   "cell_type": "code",
   "execution_count": null,
   "id": "ec60238a-38cf-49af-9803-e28a770aa668",
   "metadata": {},
   "outputs": [],
   "source": [
    "str.format()"
   ]
  },
  {
   "cell_type": "code",
   "execution_count": null,
   "id": "4a22cbc6-f954-4dd4-ab01-f77384d52635",
   "metadata": {
    "tags": []
   },
   "outputs": [],
   "source": [
    "features = '/network/scratch/s/subhrajyoti.dasgupta/yc2/features/'\n",
    "clips = '/network/scratch/s/subhrajyoti.dasgupta/yc2/clips/'\n",
    "yt_ids = os.listdir(features)\n",
    "src_name = 'master_features_with_label.csv'\n",
    "dest_name = 'clip_{:03}.pt'\n",
    "\n",
    "cnt = 1\n",
    "res = []\n",
    "cols = list(range(512))\n",
    "cnt = 1\n",
    "for yt_id in yt_ids:\n",
    "    src_path = os.path.join(features, yt_id, src_name)\n",
    "    df = pd.read_csv(src_path, header = None)\n",
    "    for i, d in list(df.groupby(513)):\n",
    "        dest_fldr = os.path.join(clips, yt_id)\n",
    "        if not os.path.isdir(dest_fldr):\n",
    "            os.mkdir(dest_fldr)\n",
    "        dest_path = os.path.join(dest_fldr, dest_name.format(int(i)))\n",
    "        tensor = torch.from_numpy(d[cols].values)\n",
    "        torch.save(tensor, dest_path)\n",
    "    print(f'{cnt}: {yt_id} clips saved!')\n",
    "    cnt += 1"
   ]
  },
  {
   "cell_type": "markdown",
   "id": "cc351cef-73d5-47c8-9639-cbcf2ef065da",
   "metadata": {},
   "source": [
    "#### clip reference path in reviewed_0812_vid_5s"
   ]
  },
  {
   "cell_type": "code",
   "execution_count": 107,
   "id": "28e5132b-fde9-402c-b558-02220fd16ef6",
   "metadata": {
    "tags": []
   },
   "outputs": [],
   "source": [
    "key_clip_training_file = 'reviewed_0812_vid_5s.csv'\n",
    "save_path = '/network/scratch/s/subhrajyoti.dasgupta/yc2/reviewed_0812_with_clip_path.csv'\n",
    "df = pd.read_csv(key_clip_training_file)\n",
    "#extract yt_id\n",
    "clip_num = df['RowNumber'].apply(lambda x: 'clip_{:03}.pt'.format(int(x)))\n",
    "yt_id = df['VideoUrl'].str.extract('=(.+)')[0]\n",
    "df['clip_path'] = 'clips/' + yt_id + '/' + clip_num\n",
    "df.to_csv(save_path)"
   ]
  },
  {
   "cell_type": "markdown",
   "id": "dc5ba53a-6645-4662-bba5-4589fcad63f2",
   "metadata": {},
   "source": [
    "### Generate n-second clips"
   ]
  },
  {
   "cell_type": "code",
   "execution_count": null,
   "id": "77a9f2f3-82b8-4a89-8eca-3ec856f77e7d",
   "metadata": {},
   "outputs": [],
   "source": [
    "# vid_path = './tmp/videos/FHvZgt3ExDI.mp4'\n",
    "# dest = './tmp/video_frames/'\n",
    "# import time\n",
    "# s = time.time()\n",
    "# process_video(vid_path, dest, 5)\n",
    "# e = time.time()\n",
    "# print(e - s)"
   ]
  },
  {
   "cell_type": "markdown",
   "id": "38765d44-48d9-4b1b-8738-69850dd53bdd",
   "metadata": {
    "tags": []
   },
   "source": [
    "### Object & Action detection from clips"
   ]
  }
 ],
 "metadata": {
  "kernelspec": {
   "display_name": "quick-recipe",
   "language": "python",
   "name": "quick-recipe"
  },
  "language_info": {
   "codemirror_mode": {
    "name": "ipython",
    "version": 3
   },
   "file_extension": ".py",
   "mimetype": "text/x-python",
   "name": "python",
   "nbconvert_exporter": "python",
   "pygments_lexer": "ipython3",
   "version": "3.10.4"
  }
 },
 "nbformat": 4,
 "nbformat_minor": 5
}
