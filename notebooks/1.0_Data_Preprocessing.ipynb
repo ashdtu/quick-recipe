{
 "cells": [
  {
   "cell_type": "code",
   "execution_count": 129,
   "id": "430eaec6",
   "metadata": {},
   "outputs": [],
   "source": [
    "from pathlib import Path\n",
    "from tqdm import tqdm\n",
    "import pandas as pd\n",
    "import json"
   ]
  },
  {
   "cell_type": "markdown",
   "id": "d948b0ed",
   "metadata": {},
   "source": [
    "## Analyse the data files"
   ]
  },
  {
   "cell_type": "markdown",
   "id": "cea8491a",
   "metadata": {},
   "source": [
    "### reviewed_0812.csv (352 videos)"
   ]
  },
  {
   "cell_type": "code",
   "execution_count": 5,
   "id": "13daf653",
   "metadata": {},
   "outputs": [],
   "source": [
    "DATA_DIR = Path().cwd().parent / 'youcook2'"
   ]
  },
  {
   "cell_type": "code",
   "execution_count": 6,
   "id": "ff40cd0b",
   "metadata": {},
   "outputs": [],
   "source": [
    "df = pd.read_csv(str(DATA_DIR / 'reviewed_0812.csv'))"
   ]
  },
  {
   "cell_type": "code",
   "execution_count": 7,
   "id": "a00f6491",
   "metadata": {},
   "outputs": [
    {
     "data": {
      "text/html": [
       "<div>\n",
       "<style scoped>\n",
       "    .dataframe tbody tr th:only-of-type {\n",
       "        vertical-align: middle;\n",
       "    }\n",
       "\n",
       "    .dataframe tbody tr th {\n",
       "        vertical-align: top;\n",
       "    }\n",
       "\n",
       "    .dataframe thead th {\n",
       "        text-align: right;\n",
       "    }\n",
       "</style>\n",
       "<table border=\"1\" class=\"dataframe\">\n",
       "  <thead>\n",
       "    <tr style=\"text-align: right;\">\n",
       "      <th></th>\n",
       "      <th>No</th>\n",
       "      <th>Title</th>\n",
       "      <th>VideoUrl</th>\n",
       "      <th>TimeStamp</th>\n",
       "      <th>Sentence</th>\n",
       "      <th>RowNumber</th>\n",
       "      <th>IsUsefulSentence</th>\n",
       "      <th>Key steps</th>\n",
       "      <th>Verb</th>\n",
       "      <th>Object(directly related with Verb)</th>\n",
       "      <th>Location</th>\n",
       "      <th>Time</th>\n",
       "      <th>Temperature</th>\n",
       "      <th>Other important phrase(like with</th>\n",
       "    </tr>\n",
       "  </thead>\n",
       "  <tbody>\n",
       "    <tr>\n",
       "      <th>0</th>\n",
       "      <td>1</td>\n",
       "      <td>pizza marghetta</td>\n",
       "      <td>https://www.youtube.com/watch?v=FHvZgt3ExDI</td>\n",
       "      <td>00:00.1</td>\n",
       "      <td>guys , jason hill here today.</td>\n",
       "      <td>0</td>\n",
       "      <td>0</td>\n",
       "      <td>NaN</td>\n",
       "      <td>NaN</td>\n",
       "      <td>NaN</td>\n",
       "      <td>NaN</td>\n",
       "      <td>NaN</td>\n",
       "      <td>NaN</td>\n",
       "      <td>NaN</td>\n",
       "    </tr>\n",
       "    <tr>\n",
       "      <th>1</th>\n",
       "      <td>2</td>\n",
       "      <td>pizza marghetta</td>\n",
       "      <td>https://www.youtube.com/watch?v=FHvZgt3ExDI</td>\n",
       "      <td>00:01.5</td>\n",
       "      <td>and i 'm with chef great stillman at repor res...</td>\n",
       "      <td>1</td>\n",
       "      <td>0</td>\n",
       "      <td>NaN</td>\n",
       "      <td>NaN</td>\n",
       "      <td>NaN</td>\n",
       "      <td>NaN</td>\n",
       "      <td>NaN</td>\n",
       "      <td>NaN</td>\n",
       "      <td>NaN</td>\n",
       "    </tr>\n",
       "    <tr>\n",
       "      <th>2</th>\n",
       "      <td>3</td>\n",
       "      <td>pizza marghetta</td>\n",
       "      <td>https://www.youtube.com/watch?v=FHvZgt3ExDI</td>\n",
       "      <td>00:07.3</td>\n",
       "      <td>what are we going to have?</td>\n",
       "      <td>2</td>\n",
       "      <td>0</td>\n",
       "      <td>NaN</td>\n",
       "      <td>NaN</td>\n",
       "      <td>NaN</td>\n",
       "      <td>NaN</td>\n",
       "      <td>NaN</td>\n",
       "      <td>NaN</td>\n",
       "      <td>NaN</td>\n",
       "    </tr>\n",
       "    <tr>\n",
       "      <th>3</th>\n",
       "      <td>4</td>\n",
       "      <td>pizza marghetta</td>\n",
       "      <td>https://www.youtube.com/watch?v=FHvZgt3ExDI</td>\n",
       "      <td>00:08.2</td>\n",
       "      <td>we 're going to have a traditional margherita ...</td>\n",
       "      <td>3</td>\n",
       "      <td>0</td>\n",
       "      <td>NaN</td>\n",
       "      <td>NaN</td>\n",
       "      <td>NaN</td>\n",
       "      <td>NaN</td>\n",
       "      <td>NaN</td>\n",
       "      <td>NaN</td>\n",
       "      <td>NaN</td>\n",
       "    </tr>\n",
       "    <tr>\n",
       "      <th>4</th>\n",
       "      <td>5</td>\n",
       "      <td>pizza marghetta</td>\n",
       "      <td>https://www.youtube.com/watch?v=FHvZgt3ExDI</td>\n",
       "      <td>00:15.9</td>\n",
       "      <td>so this is the dough.</td>\n",
       "      <td>4</td>\n",
       "      <td>0</td>\n",
       "      <td>NaN</td>\n",
       "      <td>NaN</td>\n",
       "      <td>NaN</td>\n",
       "      <td>NaN</td>\n",
       "      <td>NaN</td>\n",
       "      <td>NaN</td>\n",
       "      <td>NaN</td>\n",
       "    </tr>\n",
       "  </tbody>\n",
       "</table>\n",
       "</div>"
      ],
      "text/plain": [
       "   No            Title                                     VideoUrl TimeStamp  \\\n",
       "0   1  pizza marghetta  https://www.youtube.com/watch?v=FHvZgt3ExDI   00:00.1   \n",
       "1   2  pizza marghetta  https://www.youtube.com/watch?v=FHvZgt3ExDI   00:01.5   \n",
       "2   3  pizza marghetta  https://www.youtube.com/watch?v=FHvZgt3ExDI   00:07.3   \n",
       "3   4  pizza marghetta  https://www.youtube.com/watch?v=FHvZgt3ExDI   00:08.2   \n",
       "4   5  pizza marghetta  https://www.youtube.com/watch?v=FHvZgt3ExDI   00:15.9   \n",
       "\n",
       "                                            Sentence  RowNumber  \\\n",
       "0                      guys , jason hill here today.          0   \n",
       "1  and i 'm with chef great stillman at repor res...          1   \n",
       "2                         what are we going to have?          2   \n",
       "3  we 're going to have a traditional margherita ...          3   \n",
       "4                              so this is the dough.          4   \n",
       "\n",
       "   IsUsefulSentence Key steps Verb Object(directly related with Verb)  \\\n",
       "0                 0       NaN  NaN                                NaN   \n",
       "1                 0       NaN  NaN                                NaN   \n",
       "2                 0       NaN  NaN                                NaN   \n",
       "3                 0       NaN  NaN                                NaN   \n",
       "4                 0       NaN  NaN                                NaN   \n",
       "\n",
       "  Location Time Temperature Other important phrase(like with  \n",
       "0      NaN  NaN         NaN                              NaN  \n",
       "1      NaN  NaN         NaN                              NaN  \n",
       "2      NaN  NaN         NaN                              NaN  \n",
       "3      NaN  NaN         NaN                              NaN  \n",
       "4      NaN  NaN         NaN                              NaN  "
      ]
     },
     "execution_count": 7,
     "metadata": {},
     "output_type": "execute_result"
    }
   ],
   "source": [
    "df.head()"
   ]
  },
  {
   "cell_type": "code",
   "execution_count": 292,
   "id": "433681bb",
   "metadata": {},
   "outputs": [
    {
     "name": "stdout",
     "output_type": "stream",
     "text": [
      "<class 'pandas.core.frame.DataFrame'>\n",
      "RangeIndex: 15511 entries, 0 to 15510\n",
      "Data columns (total 15 columns):\n",
      " #   Column                              Non-Null Count  Dtype \n",
      "---  ------                              --------------  ----- \n",
      " 0   No                                  15511 non-null  int64 \n",
      " 1   Title                               15511 non-null  object\n",
      " 2   VideoUrl                            15511 non-null  object\n",
      " 3   TimeStamp                           15511 non-null  object\n",
      " 4   Sentence                            15511 non-null  object\n",
      " 5   RowNumber                           15511 non-null  int64 \n",
      " 6   IsUsefulSentence                    15511 non-null  int64 \n",
      " 7   Key steps                           3570 non-null   object\n",
      " 8   Verb                                3568 non-null   object\n",
      " 9   Object(directly related with Verb)  3563 non-null   object\n",
      " 10  Location                            673 non-null    object\n",
      " 11  Time                                189 non-null    object\n",
      " 12  Temperature                         101 non-null    object\n",
      " 13  Other important phrase(like with    112 non-null    object\n",
      " 14  Sentence_Coref                      15511 non-null  object\n",
      "dtypes: int64(3), object(12)\n",
      "memory usage: 1.8+ MB\n"
     ]
    }
   ],
   "source": [
    "df.info()"
   ]
  },
  {
   "cell_type": "code",
   "execution_count": 8,
   "id": "5eccff5f",
   "metadata": {},
   "outputs": [
    {
     "data": {
      "text/html": [
       "<div>\n",
       "<style scoped>\n",
       "    .dataframe tbody tr th:only-of-type {\n",
       "        vertical-align: middle;\n",
       "    }\n",
       "\n",
       "    .dataframe tbody tr th {\n",
       "        vertical-align: top;\n",
       "    }\n",
       "\n",
       "    .dataframe thead th {\n",
       "        text-align: right;\n",
       "    }\n",
       "</style>\n",
       "<table border=\"1\" class=\"dataframe\">\n",
       "  <thead>\n",
       "    <tr style=\"text-align: right;\">\n",
       "      <th></th>\n",
       "      <th>No</th>\n",
       "      <th>Title</th>\n",
       "      <th>VideoUrl</th>\n",
       "      <th>TimeStamp</th>\n",
       "      <th>Sentence</th>\n",
       "      <th>RowNumber</th>\n",
       "      <th>IsUsefulSentence</th>\n",
       "      <th>Key steps</th>\n",
       "      <th>Verb</th>\n",
       "      <th>Object(directly related with Verb)</th>\n",
       "      <th>Location</th>\n",
       "      <th>Time</th>\n",
       "      <th>Temperature</th>\n",
       "      <th>Other important phrase(like with</th>\n",
       "    </tr>\n",
       "  </thead>\n",
       "  <tbody>\n",
       "    <tr>\n",
       "      <th>10872</th>\n",
       "      <td>10885</td>\n",
       "      <td>spaghetti and meatballs</td>\n",
       "      <td>https://www.youtube.com/watch?v=QKjmdrMA2t8</td>\n",
       "      <td>01:45.6</td>\n",
       "      <td>and then brush it lightly with oil and then fo...</td>\n",
       "      <td>19</td>\n",
       "      <td>1</td>\n",
       "      <td>brush aluminium foil with oil</td>\n",
       "      <td>brush</td>\n",
       "      <td>aluminium foil</td>\n",
       "      <td>NaN</td>\n",
       "      <td>NaN</td>\n",
       "      <td>NaN</td>\n",
       "      <td>with oil</td>\n",
       "    </tr>\n",
       "  </tbody>\n",
       "</table>\n",
       "</div>"
      ],
      "text/plain": [
       "          No                    Title  \\\n",
       "10872  10885  spaghetti and meatballs   \n",
       "\n",
       "                                          VideoUrl TimeStamp  \\\n",
       "10872  https://www.youtube.com/watch?v=QKjmdrMA2t8   01:45.6   \n",
       "\n",
       "                                                Sentence  RowNumber  \\\n",
       "10872  and then brush it lightly with oil and then fo...         19   \n",
       "\n",
       "       IsUsefulSentence                      Key steps   Verb  \\\n",
       "10872                 1  brush aluminium foil with oil  brush   \n",
       "\n",
       "      Object(directly related with Verb) Location Time Temperature  \\\n",
       "10872                     aluminium foil      NaN  NaN         NaN   \n",
       "\n",
       "      Other important phrase(like with  \n",
       "10872                         with oil  "
      ]
     },
     "execution_count": 8,
     "metadata": {},
     "output_type": "execute_result"
    }
   ],
   "source": [
    "df[df[\"Sentence\"] == \"and then brush it lightly with oil and then for the most time consuming step in making meatballs.\"]"
   ]
  },
  {
   "cell_type": "code",
   "execution_count": 10,
   "id": "d0c2790d",
   "metadata": {},
   "outputs": [
    {
     "data": {
      "text/plain": [
       "352"
      ]
     },
     "execution_count": 10,
     "metadata": {},
     "output_type": "execute_result"
    }
   ],
   "source": [
    "len(df['VideoUrl'].unique().tolist())"
   ]
  },
  {
   "cell_type": "markdown",
   "id": "d38e51d5",
   "metadata": {},
   "source": [
    "## Co-reference resolution"
   ]
  },
  {
   "cell_type": "code",
   "execution_count": 28,
   "id": "a4eb2b7e",
   "metadata": {},
   "outputs": [],
   "source": [
    "from allennlp_models import pretrained"
   ]
  },
  {
   "cell_type": "code",
   "execution_count": 29,
   "id": "8be47747",
   "metadata": {},
   "outputs": [
    {
     "name": "stderr",
     "output_type": "stream",
     "text": [
      "lerc is not a registered model.\n"
     ]
    },
    {
     "data": {
      "text/plain": [
       "{'vgqa-vilbert': <allennlp.common.model_card.ModelCard at 0x7f8d00c31c10>,\n",
       " 'structured-prediction-srl-bert': <allennlp.common.model_card.ModelCard at 0x7f8d00fdb160>,\n",
       " 'semparse-nlvr': <allennlp.common.model_card.ModelCard at 0x7f8d00fe0fd0>,\n",
       " 'structured-prediction-biaffine-parser': <allennlp.common.model_card.ModelCard at 0x7f8d00fe0ac0>,\n",
       " 'mc-roberta-swag': <allennlp.common.model_card.ModelCard at 0x7f8d00f8bf10>,\n",
       " 'lm-masked-language-model': <allennlp.common.model_card.ModelCard at 0x7f8d00fe4f40>,\n",
       " 'roberta-sst': <allennlp.common.model_card.ModelCard at 0x7f8d00f5c790>,\n",
       " 'lm-next-token-lm-gpt2': <allennlp.common.model_card.ModelCard at 0x7f8d00feef70>,\n",
       " 'coref-spanbert': <allennlp.common.model_card.ModelCard at 0x7f8d00fdb3d0>,\n",
       " 'rc-bidaf-elmo': <allennlp.common.model_card.ModelCard at 0x7f8d00fe4a90>,\n",
       " 'tagging-elmo-crf-tagger': <allennlp.common.model_card.ModelCard at 0x7f8d00ff9190>,\n",
       " 'semparse-text-to-sql': <allennlp.common.model_card.ModelCard at 0x7f8d00feee80>,\n",
       " 'nlvr2-vilbert': <allennlp.common.model_card.ModelCard at 0x7f8d01e09f40>,\n",
       " 'rc-bidaf': <allennlp.common.model_card.ModelCard at 0x7f8d00fe03d0>,\n",
       " 'vqa-vilbert': <allennlp.common.model_card.ModelCard at 0x7f8d00fe43d0>,\n",
       " 'semparse-wikitables': <allennlp.common.model_card.ModelCard at 0x7f8d00ff9850>,\n",
       " 'generation-bart': <allennlp.common.model_card.ModelCard at 0x7f8d00ffcd60>,\n",
       " 'tagging-fine-grained-transformer-crf-tagger': <allennlp.common.model_card.ModelCard at 0x7f8d01e06c70>,\n",
       " 've-vilbert': <allennlp.common.model_card.ModelCard at 0x7f8d00fee130>,\n",
       " 'pair-classification-esim': <allennlp.common.model_card.ModelCard at 0x7f8d01e00eb0>,\n",
       " 'pair-classification-adversarial-binary-gender-bias-mitigated-roberta-snli': <allennlp.common.model_card.ModelCard at 0x7f8d00ffbeb0>,\n",
       " 'rc-naqanet': <allennlp.common.model_card.ModelCard at 0x7f8d01e0d3d0>,\n",
       " 'structured-prediction-constituency-parser': <allennlp.common.model_card.ModelCard at 0x7f8d00ffc2e0>,\n",
       " 'pair-classification-decomposable-attention-elmo': <allennlp.common.model_card.ModelCard at 0x7f8d00ff97c0>,\n",
       " 'pair-classification-roberta-rte': <allennlp.common.model_card.ModelCard at 0x7f8d01e063a0>,\n",
       " 'evaluate_rc-lerc': <allennlp.common.model_card.ModelCard at 0x7f8d01e0dee0>,\n",
       " 'structured-prediction-srl': <allennlp.common.model_card.ModelCard at 0x7f8d01e13160>,\n",
       " 'pair-classification-roberta-snli': <allennlp.common.model_card.ModelCard at 0x7f8d00ff9790>,\n",
       " 'pair-classification-binary-gender-bias-mitigated-roberta-snli': <allennlp.common.model_card.ModelCard at 0x7f8d00fdee80>,\n",
       " 'mc-roberta-piqa': <allennlp.common.model_card.ModelCard at 0x7f8d01e07130>,\n",
       " 'rc-nmn': <allennlp.common.model_card.ModelCard at 0x7f8d01e17e20>,\n",
       " 'mc-roberta-commonsenseqa': <allennlp.common.model_card.ModelCard at 0x7f8d01e17b50>,\n",
       " 'pair-classification-roberta-mnli': <allennlp.common.model_card.ModelCard at 0x7f8d00ffbbb0>,\n",
       " 'rc-transformer-qa': <allennlp.common.model_card.ModelCard at 0x7f8d01e1a190>,\n",
       " 'tagging-fine-grained-crf-tagger': <allennlp.common.model_card.ModelCard at 0x7f8d01e18ca0>,\n",
       " 'glove-sst': <allennlp.common.model_card.ModelCard at 0x7f8d01e1dfa0>}"
      ]
     },
     "execution_count": 29,
     "metadata": {},
     "output_type": "execute_result"
    }
   ],
   "source": [
    "pretrained.get_pretrained_models()"
   ]
  },
  {
   "cell_type": "code",
   "execution_count": 31,
   "id": "34ec5dc2",
   "metadata": {},
   "outputs": [
    {
     "name": "stderr",
     "output_type": "stream",
     "text": [
      "lerc is not a registered model.\n"
     ]
    },
    {
     "data": {
      "application/vnd.jupyter.widget-view+json": {
       "model_id": "3cb81daabc364c88926fd79ad08a5286",
       "version_major": 2,
       "version_minor": 0
      },
      "text/plain": [
       "Output()"
      ]
     },
     "metadata": {},
     "output_type": "display_data"
    },
    {
     "data": {
      "text/html": [
       "<pre style=\"white-space:pre;overflow-x:auto;line-height:normal;font-family:Menlo,'DejaVu Sans Mono',consolas,'Courier New',monospace\"></pre>\n"
      ],
      "text/plain": []
     },
     "metadata": {},
     "output_type": "display_data"
    },
    {
     "data": {
      "text/html": [
       "<pre style=\"white-space:pre;overflow-x:auto;line-height:normal;font-family:Menlo,'DejaVu Sans Mono',consolas,'Courier New',monospace\">\n",
       "</pre>\n"
      ],
      "text/plain": [
       "\n"
      ]
     },
     "metadata": {},
     "output_type": "display_data"
    },
    {
     "data": {
      "application/vnd.jupyter.widget-view+json": {
       "model_id": "53b1edb93f174aaaa7b1ef637889cbca",
       "version_major": 2,
       "version_minor": 0
      },
      "text/plain": [
       "Downloading:   0%|          | 0.00/414 [00:00<?, ?B/s]"
      ]
     },
     "metadata": {},
     "output_type": "display_data"
    },
    {
     "data": {
      "application/vnd.jupyter.widget-view+json": {
       "model_id": "e2d08e6ecb49456aa40af550cd2685d1",
       "version_major": 2,
       "version_minor": 0
      },
      "text/plain": [
       "Downloading:   0%|          | 0.00/208k [00:00<?, ?B/s]"
      ]
     },
     "metadata": {},
     "output_type": "display_data"
    },
    {
     "data": {
      "application/vnd.jupyter.widget-view+json": {
       "model_id": "c5fa2d7ed33f4c38aed0103bec740ec6",
       "version_major": 2,
       "version_minor": 0
      },
      "text/plain": [
       "Downloading:   0%|          | 0.00/634M [00:00<?, ?B/s]"
      ]
     },
     "metadata": {},
     "output_type": "display_data"
    },
    {
     "name": "stderr",
     "output_type": "stream",
     "text": [
      "Some weights of BertModel were not initialized from the model checkpoint at SpanBERT/spanbert-large-cased and are newly initialized: ['bert.pooler.dense.bias', 'bert.pooler.dense.weight']\n",
      "You should probably TRAIN this model on a down-stream task to be able to use it for predictions and inference.\n",
      "Spacy models 'en_core_web_sm' not found.  Downloading and installing.\n"
     ]
    },
    {
     "name": "stdout",
     "output_type": "stream",
     "text": [
      "\u001b[38;5;2m✔ Download and installation successful\u001b[0m\n",
      "You can now load the model via spacy.load('en_core_web_sm')\n"
     ]
    }
   ],
   "source": [
    "coref = pretrained.load_predictor(\"coref-spanbert\")"
   ]
  },
  {
   "cell_type": "code",
   "execution_count": 46,
   "id": "fe5bca41",
   "metadata": {},
   "outputs": [
    {
     "data": {
      "text/plain": [
       "\"hello , this is chef john from food wishes dot com with the world 's fastest meatballs.|i 'm going to show you an incredibly fast.|no chop meatball mixture, but wait, that 's not all not only is this a note chapa, meatball recipe.|it 's an oh roll meatball recipe and yet with all those shortcuts had still incredibly delicious, and this is how you make it OK.|so , the best part about a note shop meatball recipe is the node shopping part.|so you 're just going to take some ground, beef and ground veal is any combination of beef, veal and pork.|so i crumble that in a bowl and then it is small bowl i 'm going to take some plain bread crumbs i 'm going to add some milk.|one whole egg, some dry italian herbs have a little touch of granulated garlic little splash of olive oil abig pinch of red pepper flakes, and then we 're going to mix that together with a whisk by the way, instead of calling this.|the wet breadcrumb mixture.|we call it a slurry is shorter, and sounds more official.|so when you 're slurries, mix set that aside and it 's back to the bowl of meat this season would salt black pepper, and for me just a little pinch of white pepper and if you do n't have it, that 's fine after the salt and pepper.|i 'm gonna add some parmesan cheese.|the real stuff from parma italy or at that point.|you 're going to transfer your slurry mixture into the meat bowl and you 're going to give it a good mix.|and for my next trick, i 'm going to turn a wooden spoon into a rubber spatula in three two alright.|we 're going to mix that together, stop worrying about overmixing this meatball recipe is indestructible, saying intentionally over mix.|it , but once it 's mixed stop, so right there, i 'm good.|i 'm going to stop and begin to shape the meatballs.|but before we shape, i 'm going to need you to line a baking sheet with some aluminum foil.|and then brush it lightly with oil and then for the most time consuming step in making meatballs.|the rolling, except we 're not going to roll, we 're going to scoop besides being fast because it 's no chop.|this method uses a scoop instead of rolling.|so you 're just going to take one of these small sorbey scoops they sell, AM at every kitchen supply store in this, you can scoop a whole tray like that in about five minutes and you 're going to get the same basic shape except they 're going to have extra nooks and crannies, which is an advantage, or ask anybody that slices sandwich mean surface area equals flavor.|so i know there are a little rough around the edges in fact, i have like a pet nickname for my call these my rough riders, and yes, i 've heard through the grapevine that DMX is not happy about that.|but that 's another story and this method really does save a tremendous amount of time.|so we 're going to scoop all that out it should fit on one sheet tray once there scoop we have to brown them should be a time consuming step some people fries some people bake we 're going to go even faster we 're simply going to brown those under a hot broiler.|it 's going to take like half the time, the baking or frying would and as soon as they are browned you 're done now.|i did n't buy feel free now, ideally, is your meatballs were browning you already had a pot of pasta sauce on the stove?|already hot answer your meatballs in, and as soon as that comes back to a simmer you 're ready to eat, so, if your sauce is already hot start to finish you can do this recipe in about thirty five forty minutes.|and of course, if you have an extra fifteen twenty minutes maybe a half hour let the meatballs simmer in the sauce a little bit.|it 's only going to make the sauce more flavorful.|so , do n't worry about overcooking the meatballs or give them getting tough?|not going to happen.|and , you know, how this story ends right, we put it over spaghetti, we topped with some extra parmesan, and we dig in we go.|but these were really good, a fabulous plate of spaghetti and meatballs of course, it 's not going to be as epic is the traditional methods.|but it 's not supposed to be this is like a week night.|you 're craving spaghetti and meatballs.|but you do n't have hours and hours to spend this is a great alternative.|so hope you give it a try head over to food wishes, dot com for all the ingredient amounts, well, as usual, and as always enjoy.\""
      ]
     },
     "execution_count": 46,
     "metadata": {},
     "output_type": "execute_result"
    }
   ],
   "source": [
    "transcript = \"|\".join(list(df[(df[\"VideoUrl\"] == 'https://www.youtube.com/watch?v=QKjmdrMA2t8')]['Sentence'].values))\n",
    "transcript"
   ]
  },
  {
   "cell_type": "code",
   "execution_count": 328,
   "id": "fe214938",
   "metadata": {},
   "outputs": [],
   "source": [
    "def extract_subject(entities, word_threshold=3):\n",
    "    if 'it' in entities or 'this' in entities:\n",
    "        noun = None\n",
    "        for entity in entities:\n",
    "            if entity in ['it', 'he', 'she', 'this']:\n",
    "                continue\n",
    "            # Check if words in the entity exceed threshold\n",
    "            words = entity.split(' ')\n",
    "            if len(words) > 3:\n",
    "                continue\n",
    "            else:\n",
    "                noun = \" \".join(words)\n",
    "                break\n",
    "        return noun\n",
    "    else:\n",
    "        return None\n",
    "    \n",
    "def amend_document_with_coref_resolution(document, coref):\n",
    "    coref_predictions = coref.predict(transcript)\n",
    "    amended_document = coref_predictions['document'].copy()\n",
    "    for cluster in coref_predictions['clusters']:\n",
    "        entities = []\n",
    "        \n",
    "        for subcluster in cluster:\n",
    "            entity = \" \".join(coref_predictions['document'][subcluster[0]:subcluster[1]+1])\n",
    "            entities.append(entity)\n",
    "\n",
    "        # Detect 'it'/'he'/'she'/'this' pronouns and extract noun to replace pronouns\n",
    "        subject = extract_subject(entities)\n",
    "        if subject is None:\n",
    "            continue\n",
    "        else:\n",
    "            # Make the replacement operation\n",
    "            for subcluster in cluster:\n",
    "                # Single word pronoun: amend the word in the amended_document with detected subject\n",
    "                if subcluster[0] == subcluster[1]:\n",
    "                    amended_document[subcluster[0]] = subject\n",
    "                    \n",
    "    amended_document = \" \".join(amended_document)\n",
    "    return amended_document\n",
    "\n",
    "def extract_coref_sentences(df):\n",
    "    combined_sent_df = df.copy()\n",
    "    aligned_sentences = []\n",
    "    failures = 0\n",
    "    unaligned = 0\n",
    "    for index in range(len(combined_sent_df)):\n",
    "        transcript_list = combined_sent_df.iloc[index]['Sentence'].split(\"|\")\n",
    "        coref_list = combined_sent_df.iloc[index]['Sentence_Coref'].split(\"|\")\n",
    "        aligned_list = []\n",
    "\n",
    "        transcript_idx = 0\n",
    "        coref_idx = 0\n",
    "        aligned = True\n",
    "        # If coref_list and transcript_list are the same length, we can just add that into the aligned list\n",
    "        if len(transcript_list) == len(coref_list):\n",
    "            aligned_list = coref_list\n",
    "        else:\n",
    "            unaligned += 1\n",
    "            while coref_idx < len(coref_list) and transcript_idx < len(transcript_list):\n",
    "                transcript_words = transcript_list[transcript_idx].split(' ')\n",
    "                coref_words = coref_list[coref_idx].split(' ')\n",
    "                # If first word matches\n",
    "                if transcript_words[0] == coref_words[0]:\n",
    "                    # Add the corefs between transcript_idx and coref_idx\n",
    "                    if not aligned and transcript_idx < coref_idx:\n",
    "                        for i in range(transcript_idx, coref_idx):\n",
    "                            aligned_list[-1] += f\" {coref_list[i]}\"\n",
    "                        aligned = True\n",
    "                    # Add current coref into aligned list\n",
    "                    aligned_list.append(\" \".join(transcript_words))\n",
    "\n",
    "                    # Update indices\n",
    "                    transcript_idx += 1\n",
    "                    coref_idx += 1\n",
    "                else:\n",
    "                    # Search forwards\n",
    "                    coref_idx += 1\n",
    "\n",
    "            # Add remaining corefs into aligned list\n",
    "            for i in range(coref_idx, len(coref_list)):\n",
    "                aligned_list[-1] += f\" {coref_list[i]}\"\n",
    "\n",
    "            # Add remaining transcripts into aligned list\n",
    "            for i in range(transcript_idx, len(transcript_list)):\n",
    "                aligned_list[-1] += f\" {transcript_list[i]}\"\n",
    "\n",
    "            # Handle failure case: if cannot align, just use transcript list as fall-back\n",
    "            if len(transcript_list) != len(aligned_list):\n",
    "                failures += 1\n",
    "                aligned_list = transcript_list\n",
    "    \n",
    "        aligned_sentences.extend(aligned_list)\n",
    "    \n",
    "    print(f\"{unaligned} initial unaligned cases, {failures} failure cases\")\n",
    "    \n",
    "    return aligned_sentences"
   ]
  },
  {
   "cell_type": "code",
   "execution_count": 165,
   "id": "28acb19f",
   "metadata": {},
   "outputs": [
    {
     "data": {
      "text/plain": [
       "\"allrecipes member , cindy garrick tells us that this recipe for southern fried chicken is originally from alabama and has been passed down for generations start with eight pieces of cut up chicken cut , the breasts in half making ten pieces total it will help him cook more evenly.|season the chicken pieces with salt to taste , and pepper to taste and sprinkle about a teaspoon of paprika over the chicken season , both sides put about a cup of all purpose flour in a shallow bowl or dish and code.|each piece of chicken in the flour place the chicken on a wire rack.|if you have one it helps air dry the chick in an excess flour will fall away poor three quarters of an inch or.|so of vegetable oil into a large , deep and heavy skillet cast iron.|best , if you have one as one holds , and distributes heat evenly heat the oil to approximately three hundred and sixty five degrees , one thing to be very careful love when frying in oil is to never let any water drip into the hot oil water explodes on contact with hot oil and the combination can cause serious burns when the oil is up to temperature place.|the chicken pieces in the skillet and fry , the chicken for fifteen to twenty minutes do n't crowd the pan.|because the oil will rise as you add the chicken.|you 'll need to fry the chicken in batches use a splatter screen to catch the oil.|if you have one a splatter screen makes cleanup that much easier.|pieces , several times during the cooking time so they brown equally on both sides drain the chicken on a paper towel.|several allrecipes members suggested adding one teaspoon of onion powder , one teaspoon of garlic powder and half a teaspoon of chili powder to the seasonings for a little extra zinc.|anyway , you season it.|golden brown southern fried chicken is a winner .\""
      ]
     },
     "execution_count": 165,
     "metadata": {},
     "output_type": "execute_result"
    }
   ],
   "source": [
    "amend_document_with_coref_resolution(transcript, coref)"
   ]
  },
  {
   "cell_type": "code",
   "execution_count": 309,
   "id": "dc29a74b",
   "metadata": {},
   "outputs": [],
   "source": [
    "video_urls = df['VideoUrl'].unique()"
   ]
  },
  {
   "cell_type": "code",
   "execution_count": 310,
   "id": "33c44cd7",
   "metadata": {},
   "outputs": [
    {
     "data": {
      "text/html": [
       "<div>\n",
       "<style scoped>\n",
       "    .dataframe tbody tr th:only-of-type {\n",
       "        vertical-align: middle;\n",
       "    }\n",
       "\n",
       "    .dataframe tbody tr th {\n",
       "        vertical-align: top;\n",
       "    }\n",
       "\n",
       "    .dataframe thead th {\n",
       "        text-align: right;\n",
       "    }\n",
       "</style>\n",
       "<table border=\"1\" class=\"dataframe\">\n",
       "  <thead>\n",
       "    <tr style=\"text-align: right;\">\n",
       "      <th></th>\n",
       "      <th>VideoUrl</th>\n",
       "      <th>Sentence</th>\n",
       "    </tr>\n",
       "  </thead>\n",
       "  <tbody>\n",
       "    <tr>\n",
       "      <th>0</th>\n",
       "      <td>https://www.youtube.com/watch?v=FHvZgt3ExDI</td>\n",
       "      <td>guys , jason hill here today.|and i 'm with ch...</td>\n",
       "    </tr>\n",
       "    <tr>\n",
       "      <th>1</th>\n",
       "      <td>https://www.youtube.com/watch?v=vmTP3k22f0I</td>\n",
       "      <td>welcome to collinwood, elam, i'ma grassy.|and ...</td>\n",
       "    </tr>\n",
       "    <tr>\n",
       "      <th>2</th>\n",
       "      <td>https://www.youtube.com/watch?v=5ZWUiD2OL04</td>\n",
       "      <td>hi , i 'm john ganley from cosmos would like t...</td>\n",
       "    </tr>\n",
       "    <tr>\n",
       "      <th>3</th>\n",
       "      <td>https://www.youtube.com/watch?v=KCIGy7lt_Og</td>\n",
       "      <td>hey there welcome back to no recipe required, ...</td>\n",
       "    </tr>\n",
       "    <tr>\n",
       "      <th>4</th>\n",
       "      <td>https://www.youtube.com/watch?v=4nxbRG6-sfw</td>\n",
       "      <td>today , i 'm making kung pao chicken.|and i 'm...</td>\n",
       "    </tr>\n",
       "    <tr>\n",
       "      <th>...</th>\n",
       "      <td>...</td>\n",
       "      <td>...</td>\n",
       "    </tr>\n",
       "    <tr>\n",
       "      <th>347</th>\n",
       "      <td>https://www.youtube.com/watch?v=y-Jxli-JfPg</td>\n",
       "      <td>allrecipes member molly is a big fan of this p...</td>\n",
       "    </tr>\n",
       "    <tr>\n",
       "      <th>348</th>\n",
       "      <td>https://www.youtube.com/watch?v=UbunZxDifYU</td>\n",
       "      <td>some fried chicken going on their people chris...</td>\n",
       "    </tr>\n",
       "    <tr>\n",
       "      <th>349</th>\n",
       "      <td>https://www.youtube.com/watch?v=NB-5FHq_vL4</td>\n",
       "      <td>hey party people, it 's me DD, welcome back to...</td>\n",
       "    </tr>\n",
       "    <tr>\n",
       "      <th>350</th>\n",
       "      <td>https://www.youtube.com/watch?v=JzU12Qf5FPg</td>\n",
       "      <td>hi , i 'm daddy welcome to bettys kitchen.|tod...</td>\n",
       "    </tr>\n",
       "    <tr>\n",
       "      <th>351</th>\n",
       "      <td>https://www.youtube.com/watch?v=hXkepSgN_zo</td>\n",
       "      <td>allrecipes member, cindy garrick tells us that...</td>\n",
       "    </tr>\n",
       "  </tbody>\n",
       "</table>\n",
       "<p>352 rows × 2 columns</p>\n",
       "</div>"
      ],
      "text/plain": [
       "                                        VideoUrl  \\\n",
       "0    https://www.youtube.com/watch?v=FHvZgt3ExDI   \n",
       "1    https://www.youtube.com/watch?v=vmTP3k22f0I   \n",
       "2    https://www.youtube.com/watch?v=5ZWUiD2OL04   \n",
       "3    https://www.youtube.com/watch?v=KCIGy7lt_Og   \n",
       "4    https://www.youtube.com/watch?v=4nxbRG6-sfw   \n",
       "..                                           ...   \n",
       "347  https://www.youtube.com/watch?v=y-Jxli-JfPg   \n",
       "348  https://www.youtube.com/watch?v=UbunZxDifYU   \n",
       "349  https://www.youtube.com/watch?v=NB-5FHq_vL4   \n",
       "350  https://www.youtube.com/watch?v=JzU12Qf5FPg   \n",
       "351  https://www.youtube.com/watch?v=hXkepSgN_zo   \n",
       "\n",
       "                                              Sentence  \n",
       "0    guys , jason hill here today.|and i 'm with ch...  \n",
       "1    welcome to collinwood, elam, i'ma grassy.|and ...  \n",
       "2    hi , i 'm john ganley from cosmos would like t...  \n",
       "3    hey there welcome back to no recipe required, ...  \n",
       "4    today , i 'm making kung pao chicken.|and i 'm...  \n",
       "..                                                 ...  \n",
       "347  allrecipes member molly is a big fan of this p...  \n",
       "348  some fried chicken going on their people chris...  \n",
       "349  hey party people, it 's me DD, welcome back to...  \n",
       "350  hi , i 'm daddy welcome to bettys kitchen.|tod...  \n",
       "351  allrecipes member, cindy garrick tells us that...  \n",
       "\n",
       "[352 rows x 2 columns]"
      ]
     },
     "execution_count": 310,
     "metadata": {},
     "output_type": "execute_result"
    }
   ],
   "source": [
    "combined_sent_df = df[['VideoUrl', 'Sentence']].groupby('VideoUrl').agg({'Sentence': '|'.join}).loc[video_urls]\n",
    "combined_sent_df = combined_sent_df.reset_index(drop=False)\n",
    "combined_sent_df"
   ]
  },
  {
   "cell_type": "code",
   "execution_count": 339,
   "id": "c0c2834b",
   "metadata": {},
   "outputs": [],
   "source": [
    "combined_sent_df.to_csv(DATA_DIR / \"reviewed_0812_coref_unaligned.csv\", index=False)"
   ]
  },
  {
   "cell_type": "code",
   "execution_count": 216,
   "id": "37645e18",
   "metadata": {},
   "outputs": [
    {
     "name": "stderr",
     "output_type": "stream",
     "text": [
      "9it [01:14,  7.76s/it]"
     ]
    },
    {
     "name": "stdout",
     "output_type": "stream",
     "text": [
      "19\n"
     ]
    },
    {
     "name": "stderr",
     "output_type": "stream",
     "text": [
      "19it [02:49,  8.85s/it]"
     ]
    },
    {
     "name": "stdout",
     "output_type": "stream",
     "text": [
      "29\n"
     ]
    },
    {
     "name": "stderr",
     "output_type": "stream",
     "text": [
      "29it [04:58, 15.57s/it]"
     ]
    },
    {
     "name": "stdout",
     "output_type": "stream",
     "text": [
      "39\n"
     ]
    },
    {
     "name": "stderr",
     "output_type": "stream",
     "text": [
      "39it [06:42,  9.97s/it]"
     ]
    },
    {
     "name": "stdout",
     "output_type": "stream",
     "text": [
      "49\n"
     ]
    },
    {
     "name": "stderr",
     "output_type": "stream",
     "text": [
      "49it [08:10, 11.06s/it]"
     ]
    },
    {
     "name": "stdout",
     "output_type": "stream",
     "text": [
      "59\n"
     ]
    },
    {
     "name": "stderr",
     "output_type": "stream",
     "text": [
      "59it [09:50, 10.46s/it]"
     ]
    },
    {
     "name": "stdout",
     "output_type": "stream",
     "text": [
      "69\n"
     ]
    },
    {
     "name": "stderr",
     "output_type": "stream",
     "text": [
      "69it [11:14,  9.98s/it]"
     ]
    },
    {
     "name": "stdout",
     "output_type": "stream",
     "text": [
      "79\n"
     ]
    },
    {
     "name": "stderr",
     "output_type": "stream",
     "text": [
      "79it [12:40,  9.70s/it]"
     ]
    },
    {
     "name": "stdout",
     "output_type": "stream",
     "text": [
      "89\n"
     ]
    },
    {
     "name": "stderr",
     "output_type": "stream",
     "text": [
      "89it [14:13, 11.86s/it]"
     ]
    },
    {
     "name": "stdout",
     "output_type": "stream",
     "text": [
      "99\n"
     ]
    },
    {
     "name": "stderr",
     "output_type": "stream",
     "text": [
      "99it [15:35,  6.78s/it]"
     ]
    },
    {
     "name": "stdout",
     "output_type": "stream",
     "text": [
      "109\n"
     ]
    },
    {
     "name": "stderr",
     "output_type": "stream",
     "text": [
      "109it [16:47,  8.00s/it]"
     ]
    },
    {
     "name": "stdout",
     "output_type": "stream",
     "text": [
      "119\n"
     ]
    },
    {
     "name": "stderr",
     "output_type": "stream",
     "text": [
      "119it [17:58,  8.53s/it]"
     ]
    },
    {
     "name": "stdout",
     "output_type": "stream",
     "text": [
      "129\n"
     ]
    },
    {
     "name": "stderr",
     "output_type": "stream",
     "text": [
      "129it [19:53, 14.05s/it]"
     ]
    },
    {
     "name": "stdout",
     "output_type": "stream",
     "text": [
      "139\n"
     ]
    },
    {
     "name": "stderr",
     "output_type": "stream",
     "text": [
      "139it [21:04,  8.48s/it]"
     ]
    },
    {
     "name": "stdout",
     "output_type": "stream",
     "text": [
      "149\n"
     ]
    },
    {
     "name": "stderr",
     "output_type": "stream",
     "text": [
      "149it [22:43,  9.31s/it]"
     ]
    },
    {
     "name": "stdout",
     "output_type": "stream",
     "text": [
      "159\n"
     ]
    },
    {
     "name": "stderr",
     "output_type": "stream",
     "text": [
      "159it [23:51,  7.52s/it]"
     ]
    },
    {
     "name": "stdout",
     "output_type": "stream",
     "text": [
      "169\n"
     ]
    },
    {
     "name": "stderr",
     "output_type": "stream",
     "text": [
      "169it [25:31,  8.79s/it]"
     ]
    },
    {
     "name": "stdout",
     "output_type": "stream",
     "text": [
      "179\n"
     ]
    },
    {
     "name": "stderr",
     "output_type": "stream",
     "text": [
      "179it [27:21,  8.55s/it]"
     ]
    },
    {
     "name": "stdout",
     "output_type": "stream",
     "text": [
      "189\n"
     ]
    },
    {
     "name": "stderr",
     "output_type": "stream",
     "text": [
      "189it [29:04, 12.89s/it]"
     ]
    },
    {
     "name": "stdout",
     "output_type": "stream",
     "text": [
      "199\n"
     ]
    },
    {
     "name": "stderr",
     "output_type": "stream",
     "text": [
      "199it [30:34, 10.16s/it]"
     ]
    },
    {
     "name": "stdout",
     "output_type": "stream",
     "text": [
      "209\n"
     ]
    },
    {
     "name": "stderr",
     "output_type": "stream",
     "text": [
      "209it [31:54,  6.51s/it]"
     ]
    },
    {
     "name": "stdout",
     "output_type": "stream",
     "text": [
      "219\n"
     ]
    },
    {
     "name": "stderr",
     "output_type": "stream",
     "text": [
      "219it [32:55,  6.32s/it]"
     ]
    },
    {
     "name": "stdout",
     "output_type": "stream",
     "text": [
      "229\n"
     ]
    },
    {
     "name": "stderr",
     "output_type": "stream",
     "text": [
      "229it [34:23, 10.57s/it]"
     ]
    },
    {
     "name": "stdout",
     "output_type": "stream",
     "text": [
      "239\n"
     ]
    },
    {
     "name": "stderr",
     "output_type": "stream",
     "text": [
      "239it [35:49,  7.11s/it]"
     ]
    },
    {
     "name": "stdout",
     "output_type": "stream",
     "text": [
      "249\n"
     ]
    },
    {
     "name": "stderr",
     "output_type": "stream",
     "text": [
      "249it [37:32, 10.41s/it]"
     ]
    },
    {
     "name": "stdout",
     "output_type": "stream",
     "text": [
      "259\n"
     ]
    },
    {
     "name": "stderr",
     "output_type": "stream",
     "text": [
      "259it [40:08, 20.81s/it]"
     ]
    },
    {
     "name": "stdout",
     "output_type": "stream",
     "text": [
      "269\n"
     ]
    },
    {
     "name": "stderr",
     "output_type": "stream",
     "text": [
      "269it [42:00, 12.91s/it]"
     ]
    },
    {
     "name": "stdout",
     "output_type": "stream",
     "text": [
      "279\n"
     ]
    },
    {
     "name": "stderr",
     "output_type": "stream",
     "text": [
      "279it [43:37,  7.95s/it]"
     ]
    },
    {
     "name": "stdout",
     "output_type": "stream",
     "text": [
      "289\n"
     ]
    },
    {
     "name": "stderr",
     "output_type": "stream",
     "text": [
      "289it [45:04, 10.96s/it]"
     ]
    },
    {
     "name": "stdout",
     "output_type": "stream",
     "text": [
      "299\n"
     ]
    },
    {
     "name": "stderr",
     "output_type": "stream",
     "text": [
      "299it [46:16,  7.05s/it]"
     ]
    },
    {
     "name": "stdout",
     "output_type": "stream",
     "text": [
      "309\n"
     ]
    },
    {
     "name": "stderr",
     "output_type": "stream",
     "text": [
      "309it [48:20, 14.93s/it]"
     ]
    },
    {
     "name": "stdout",
     "output_type": "stream",
     "text": [
      "319\n"
     ]
    },
    {
     "name": "stderr",
     "output_type": "stream",
     "text": [
      "319it [50:13, 15.99s/it]"
     ]
    },
    {
     "name": "stdout",
     "output_type": "stream",
     "text": [
      "329\n"
     ]
    },
    {
     "name": "stderr",
     "output_type": "stream",
     "text": [
      "329it [51:46,  9.45s/it]"
     ]
    },
    {
     "name": "stdout",
     "output_type": "stream",
     "text": [
      "339\n"
     ]
    },
    {
     "name": "stderr",
     "output_type": "stream",
     "text": [
      "339it [52:46,  5.83s/it]"
     ]
    },
    {
     "name": "stdout",
     "output_type": "stream",
     "text": [
      "349\n"
     ]
    },
    {
     "name": "stderr",
     "output_type": "stream",
     "text": [
      "349it [54:01,  7.25s/it]"
     ]
    },
    {
     "name": "stdout",
     "output_type": "stream",
     "text": [
      "359\n"
     ]
    },
    {
     "name": "stderr",
     "output_type": "stream",
     "text": [
      "352it [54:41,  9.32s/it]\n"
     ]
    }
   ],
   "source": [
    "# AllenNLP Inference (Warning: Slow on CPU)\n",
    "url_transcript_dict = {}\n",
    "\n",
    "for i, row in tqdm(enumerate(combined_sent_df.iterrows())):\n",
    "    if (i+1) % 10 == 0:\n",
    "        print(i+1)\n",
    "    vid_url = row[0]\n",
    "    transcript = row[1]['Sentence']\n",
    "    amended_transcript = amend_document_with_coref_resolution(transcript, coref)\n",
    "    url_transcript_dict[vid_url] = amended_transcript"
   ]
  },
  {
   "cell_type": "code",
   "execution_count": 317,
   "id": "6690ed0b",
   "metadata": {},
   "outputs": [],
   "source": [
    "amended_df = pd.DataFrame({'videoUrl': url_transcript_dict.keys(), 'Sentence_Coref': url_transcript_dict.values()})"
   ]
  },
  {
   "cell_type": "code",
   "execution_count": 318,
   "id": "bb82ccb3",
   "metadata": {},
   "outputs": [],
   "source": [
    "combined_sent_df['Sentence_Coref'] = amended_df['Sentence_Coref']\n"
   ]
  },
  {
   "cell_type": "code",
   "execution_count": 319,
   "id": "dec04351",
   "metadata": {},
   "outputs": [
    {
     "data": {
      "text/html": [
       "<div>\n",
       "<style scoped>\n",
       "    .dataframe tbody tr th:only-of-type {\n",
       "        vertical-align: middle;\n",
       "    }\n",
       "\n",
       "    .dataframe tbody tr th {\n",
       "        vertical-align: top;\n",
       "    }\n",
       "\n",
       "    .dataframe thead th {\n",
       "        text-align: right;\n",
       "    }\n",
       "</style>\n",
       "<table border=\"1\" class=\"dataframe\">\n",
       "  <thead>\n",
       "    <tr style=\"text-align: right;\">\n",
       "      <th></th>\n",
       "      <th>VideoUrl</th>\n",
       "      <th>Sentence</th>\n",
       "      <th>Sentence_Coref</th>\n",
       "    </tr>\n",
       "  </thead>\n",
       "  <tbody>\n",
       "    <tr>\n",
       "      <th>0</th>\n",
       "      <td>https://www.youtube.com/watch?v=FHvZgt3ExDI</td>\n",
       "      <td>guys , jason hill here today.|and i 'm with ch...</td>\n",
       "      <td>guys , jason hill here today.|and i ' m with c...</td>\n",
       "    </tr>\n",
       "    <tr>\n",
       "      <th>1</th>\n",
       "      <td>https://www.youtube.com/watch?v=vmTP3k22f0I</td>\n",
       "      <td>welcome to collinwood, elam, i'ma grassy.|and ...</td>\n",
       "      <td>welcome to collinwood , elam , i 'm a grassy.|...</td>\n",
       "    </tr>\n",
       "    <tr>\n",
       "      <th>2</th>\n",
       "      <td>https://www.youtube.com/watch?v=5ZWUiD2OL04</td>\n",
       "      <td>hi , i 'm john ganley from cosmos would like t...</td>\n",
       "      <td>hi , i ' m john ganley from cosmos would like ...</td>\n",
       "    </tr>\n",
       "    <tr>\n",
       "      <th>3</th>\n",
       "      <td>https://www.youtube.com/watch?v=KCIGy7lt_Og</td>\n",
       "      <td>hey there welcome back to no recipe required, ...</td>\n",
       "      <td>hey there welcome back to no recipe required ,...</td>\n",
       "    </tr>\n",
       "    <tr>\n",
       "      <th>4</th>\n",
       "      <td>https://www.youtube.com/watch?v=4nxbRG6-sfw</td>\n",
       "      <td>today , i 'm making kung pao chicken.|and i 'm...</td>\n",
       "      <td>today , i ' m making kung pao chicken.|and i '...</td>\n",
       "    </tr>\n",
       "    <tr>\n",
       "      <th>...</th>\n",
       "      <td>...</td>\n",
       "      <td>...</td>\n",
       "      <td>...</td>\n",
       "    </tr>\n",
       "    <tr>\n",
       "      <th>347</th>\n",
       "      <td>https://www.youtube.com/watch?v=y-Jxli-JfPg</td>\n",
       "      <td>allrecipes member molly is a big fan of this p...</td>\n",
       "      <td>allrecipes member molly is a big fan of this p...</td>\n",
       "    </tr>\n",
       "    <tr>\n",
       "      <th>348</th>\n",
       "      <td>https://www.youtube.com/watch?v=UbunZxDifYU</td>\n",
       "      <td>some fried chicken going on their people chris...</td>\n",
       "      <td>some fried chicken going on their people chris...</td>\n",
       "    </tr>\n",
       "    <tr>\n",
       "      <th>349</th>\n",
       "      <td>https://www.youtube.com/watch?v=NB-5FHq_vL4</td>\n",
       "      <td>hey party people, it 's me DD, welcome back to...</td>\n",
       "      <td>hey party people , it 's me DD , welcome back ...</td>\n",
       "    </tr>\n",
       "    <tr>\n",
       "      <th>350</th>\n",
       "      <td>https://www.youtube.com/watch?v=JzU12Qf5FPg</td>\n",
       "      <td>hi , i 'm daddy welcome to bettys kitchen.|tod...</td>\n",
       "      <td>hi , i ' m daddy welcome to bettys kitchen.|to...</td>\n",
       "    </tr>\n",
       "    <tr>\n",
       "      <th>351</th>\n",
       "      <td>https://www.youtube.com/watch?v=hXkepSgN_zo</td>\n",
       "      <td>allrecipes member, cindy garrick tells us that...</td>\n",
       "      <td>allrecipes member , cindy garrick tells us tha...</td>\n",
       "    </tr>\n",
       "  </tbody>\n",
       "</table>\n",
       "<p>352 rows × 3 columns</p>\n",
       "</div>"
      ],
      "text/plain": [
       "                                        VideoUrl  \\\n",
       "0    https://www.youtube.com/watch?v=FHvZgt3ExDI   \n",
       "1    https://www.youtube.com/watch?v=vmTP3k22f0I   \n",
       "2    https://www.youtube.com/watch?v=5ZWUiD2OL04   \n",
       "3    https://www.youtube.com/watch?v=KCIGy7lt_Og   \n",
       "4    https://www.youtube.com/watch?v=4nxbRG6-sfw   \n",
       "..                                           ...   \n",
       "347  https://www.youtube.com/watch?v=y-Jxli-JfPg   \n",
       "348  https://www.youtube.com/watch?v=UbunZxDifYU   \n",
       "349  https://www.youtube.com/watch?v=NB-5FHq_vL4   \n",
       "350  https://www.youtube.com/watch?v=JzU12Qf5FPg   \n",
       "351  https://www.youtube.com/watch?v=hXkepSgN_zo   \n",
       "\n",
       "                                              Sentence  \\\n",
       "0    guys , jason hill here today.|and i 'm with ch...   \n",
       "1    welcome to collinwood, elam, i'ma grassy.|and ...   \n",
       "2    hi , i 'm john ganley from cosmos would like t...   \n",
       "3    hey there welcome back to no recipe required, ...   \n",
       "4    today , i 'm making kung pao chicken.|and i 'm...   \n",
       "..                                                 ...   \n",
       "347  allrecipes member molly is a big fan of this p...   \n",
       "348  some fried chicken going on their people chris...   \n",
       "349  hey party people, it 's me DD, welcome back to...   \n",
       "350  hi , i 'm daddy welcome to bettys kitchen.|tod...   \n",
       "351  allrecipes member, cindy garrick tells us that...   \n",
       "\n",
       "                                        Sentence_Coref  \n",
       "0    guys , jason hill here today.|and i ' m with c...  \n",
       "1    welcome to collinwood , elam , i 'm a grassy.|...  \n",
       "2    hi , i ' m john ganley from cosmos would like ...  \n",
       "3    hey there welcome back to no recipe required ,...  \n",
       "4    today , i ' m making kung pao chicken.|and i '...  \n",
       "..                                                 ...  \n",
       "347  allrecipes member molly is a big fan of this p...  \n",
       "348  some fried chicken going on their people chris...  \n",
       "349  hey party people , it 's me DD , welcome back ...  \n",
       "350  hi , i ' m daddy welcome to bettys kitchen.|to...  \n",
       "351  allrecipes member , cindy garrick tells us tha...  \n",
       "\n",
       "[352 rows x 3 columns]"
      ]
     },
     "execution_count": 319,
     "metadata": {},
     "output_type": "execute_result"
    }
   ],
   "source": [
    "combined_sent_df"
   ]
  },
  {
   "cell_type": "code",
   "execution_count": 329,
   "id": "f0652d62",
   "metadata": {},
   "outputs": [
    {
     "name": "stdout",
     "output_type": "stream",
     "text": [
      "47 initial unaligned cases, 2 failure cases\n"
     ]
    }
   ],
   "source": [
    "# Get aligned coref sentences, aligned with transcript sentences\n",
    "aligned_sentences = extract_coref_sentences(combined_sent_df)"
   ]
  },
  {
   "cell_type": "code",
   "execution_count": 330,
   "id": "b074b11e",
   "metadata": {},
   "outputs": [],
   "source": [
    "df['Sentence_Coref'] = pd.Series(aligned_sentences)"
   ]
  },
  {
   "cell_type": "code",
   "execution_count": 333,
   "id": "23d9587d",
   "metadata": {},
   "outputs": [
    {
     "data": {
      "text/plain": [
       "array([\"hello , this is chef john from food wishes dot com with the world 's fastest meatballs.\",\n",
       "       \"i ' m going to show you an incredibly fast.\",\n",
       "       \"no chop meatball mixture , but wait , that 's not all not only is this meatball recipe a note chapa , meatball recipe.\",\n",
       "       \"it 's an oh roll meatball recipe and yet with all those shortcuts had still incredibly delicious , and i is how you make this meatball recipe OK.\",\n",
       "       'so , the best part about a note shop meatball recipe is the node shopping part.',\n",
       "       \"so you 're just going to take some ground , beef and ground veal is any combination of beef , veal and pork.\",\n",
       "       \"so i crumble that in a bowl and then it is small bowl i ' m going to take some plain bread crumbs i ' m going to add some milk.\",\n",
       "       \"one whole egg , some dry italian herbs have a little touch of granulated garlic little splash of olive oil abig pinch of red pepper flakes , and then we 're going to mix that together with a whisk by the way , instead of calling this.\",\n",
       "       'the wet breadcrumb mixture.',\n",
       "       'we call that a slurry is shorter , and sounds more official.',\n",
       "       \"so when you 're slurries , mix set that aside and it 's back to the bowl of meat this season would salt black pepper , and for i just a little pinch of white pepper and if you do n't have it , that 's fine after the salt and pepper.\",\n",
       "       \"i ' m gon na add some parmesan cheese.\",\n",
       "       'the real stuff from parma italy or at that point.',\n",
       "       \"you 're going to transfer your slurry mixture into the meat bowl and you 're going to give your slurry mixture a good mix.\",\n",
       "       \"and for i next trick , i ' m going to turn a wooden spoon into a rubber spatula in three two alright.\",\n",
       "       \"we 're going to mix your slurry mixture together , stop worrying about overmixing this meatball recipe is indestructible , saying intentionally over mix.\",\n",
       "       \"it , but once your slurry mixture 's mixed stop , so right there , i ' m good.\",\n",
       "       \"i ' m going to stop and begin to shape the meatballs.\",\n",
       "       \"but before we shape , i ' m going to need you to line a baking sheet with some aluminum foil.\",\n",
       "       'and then brush a baking sheet lightly with oil and then for the most time consuming step in making meatballs.',\n",
       "       \"the rolling , except we 're not going to roll , we 're going to scoop besides being fast because it 's no chop.\",\n",
       "       'this method uses a scoop instead of rolling.',\n",
       "       \"so you 're just going to take one of these small sorbey scoops they sell , AM at every kitchen supply store in this , you can scoop a whole tray like that in about five minutes and you 're going to get the same basic shape except they 're going to have extra nooks and crannies , which is an advantage , or ask anybody that slices sandwich mean surface area equals flavor.\",\n",
       "       \"so i know there are a little rough around the edges in fact , i have like a pet nickname for i call these i rough riders , and yes , i ' ve heard through the grapevine that DMX is not happy about that.\",\n",
       "       \"but that 's another story and this method really does save a tremendous amount of time.\",\n",
       "       \"so we 're going to scoop all that out all that should fit on one sheet tray once there scoop we have to brown all that should be a time consuming step some people fries some people bake we 're going to go even faster we 're simply going to brown all that under a hot broiler.\",\n",
       "       \"it 's going to take like half the time , the baking or frying would and as soon as all that are browned you 're done now.\",\n",
       "       \"i did n't buy feel free now , ideally , is your meatballs were browning you already had a pot of pasta sauce on the stove?\",\n",
       "       \"already hot answer your meatballs in , and as soon as that comes back to a simmer you 're ready to eat , so , if your sauce is already hot start to finish you can do this recipe in about thirty five forty minutes.\",\n",
       "       'and of course , if you have an extra fifteen twenty minutes maybe a half hour let the meatballs simmer in the sauce a little bit.',\n",
       "       \"it 's only going to make the sauce more flavorful.\",\n",
       "       \"so , do n't worry about overcooking the meatballs or give them getting tough?\",\n",
       "       'not going to happen.',\n",
       "       'and , you know , how this story ends right , we put your sauce over spaghetti , we topped with some extra parmesan , and we dig in we go.',\n",
       "       \"but these were really good , a fabulous plate of spaghetti and meatballs of course , it 's not going to be as epic is the traditional methods.\",\n",
       "       \"but it 's not supposed to be this is like a week night.\",\n",
       "       \"you 're craving spaghetti and meatballs.\",\n",
       "       \"but you do n't have hours and hours to spend i is a great alternative.\",\n",
       "       'so hope you give i a try head over to food wishes , dot com for all the ingredient amounts , well , as usual , and as always enjoy .'],\n",
       "      dtype=object)"
      ]
     },
     "execution_count": 333,
     "metadata": {},
     "output_type": "execute_result"
    }
   ],
   "source": [
    "# Sanity check to see if \"it\" was substituted with baking paper\n",
    "df[df['VideoUrl'] == 'https://www.youtube.com/watch?v=QKjmdrMA2t8']['Sentence_Coref'].values"
   ]
  },
  {
   "cell_type": "code",
   "execution_count": 340,
   "id": "60e9cf15",
   "metadata": {},
   "outputs": [
    {
     "data": {
      "text/html": [
       "<div>\n",
       "<style scoped>\n",
       "    .dataframe tbody tr th:only-of-type {\n",
       "        vertical-align: middle;\n",
       "    }\n",
       "\n",
       "    .dataframe tbody tr th {\n",
       "        vertical-align: top;\n",
       "    }\n",
       "\n",
       "    .dataframe thead th {\n",
       "        text-align: right;\n",
       "    }\n",
       "</style>\n",
       "<table border=\"1\" class=\"dataframe\">\n",
       "  <thead>\n",
       "    <tr style=\"text-align: right;\">\n",
       "      <th></th>\n",
       "      <th>No</th>\n",
       "      <th>Title</th>\n",
       "      <th>VideoUrl</th>\n",
       "      <th>TimeStamp</th>\n",
       "      <th>Sentence</th>\n",
       "      <th>RowNumber</th>\n",
       "      <th>IsUsefulSentence</th>\n",
       "      <th>Key steps</th>\n",
       "      <th>Verb</th>\n",
       "      <th>Object(directly related with Verb)</th>\n",
       "      <th>Location</th>\n",
       "      <th>Time</th>\n",
       "      <th>Temperature</th>\n",
       "      <th>Other important phrase(like with</th>\n",
       "      <th>Sentence_Coref</th>\n",
       "    </tr>\n",
       "  </thead>\n",
       "  <tbody>\n",
       "    <tr>\n",
       "      <th>0</th>\n",
       "      <td>1</td>\n",
       "      <td>pizza marghetta</td>\n",
       "      <td>https://www.youtube.com/watch?v=FHvZgt3ExDI</td>\n",
       "      <td>00:00.1</td>\n",
       "      <td>guys , jason hill here today.</td>\n",
       "      <td>0</td>\n",
       "      <td>0</td>\n",
       "      <td>NaN</td>\n",
       "      <td>NaN</td>\n",
       "      <td>NaN</td>\n",
       "      <td>NaN</td>\n",
       "      <td>NaN</td>\n",
       "      <td>NaN</td>\n",
       "      <td>NaN</td>\n",
       "      <td>guys , jason hill here today.</td>\n",
       "    </tr>\n",
       "    <tr>\n",
       "      <th>1</th>\n",
       "      <td>2</td>\n",
       "      <td>pizza marghetta</td>\n",
       "      <td>https://www.youtube.com/watch?v=FHvZgt3ExDI</td>\n",
       "      <td>00:01.5</td>\n",
       "      <td>and i 'm with chef great stillman at repor res...</td>\n",
       "      <td>1</td>\n",
       "      <td>0</td>\n",
       "      <td>NaN</td>\n",
       "      <td>NaN</td>\n",
       "      <td>NaN</td>\n",
       "      <td>NaN</td>\n",
       "      <td>NaN</td>\n",
       "      <td>NaN</td>\n",
       "      <td>NaN</td>\n",
       "      <td>and i ' m with chef great stillman at repor re...</td>\n",
       "    </tr>\n",
       "    <tr>\n",
       "      <th>2</th>\n",
       "      <td>3</td>\n",
       "      <td>pizza marghetta</td>\n",
       "      <td>https://www.youtube.com/watch?v=FHvZgt3ExDI</td>\n",
       "      <td>00:07.3</td>\n",
       "      <td>what are we going to have?</td>\n",
       "      <td>2</td>\n",
       "      <td>0</td>\n",
       "      <td>NaN</td>\n",
       "      <td>NaN</td>\n",
       "      <td>NaN</td>\n",
       "      <td>NaN</td>\n",
       "      <td>NaN</td>\n",
       "      <td>NaN</td>\n",
       "      <td>NaN</td>\n",
       "      <td>what are we going to have?</td>\n",
       "    </tr>\n",
       "    <tr>\n",
       "      <th>3</th>\n",
       "      <td>4</td>\n",
       "      <td>pizza marghetta</td>\n",
       "      <td>https://www.youtube.com/watch?v=FHvZgt3ExDI</td>\n",
       "      <td>00:08.2</td>\n",
       "      <td>we 're going to have a traditional margherita ...</td>\n",
       "      <td>3</td>\n",
       "      <td>0</td>\n",
       "      <td>NaN</td>\n",
       "      <td>NaN</td>\n",
       "      <td>NaN</td>\n",
       "      <td>NaN</td>\n",
       "      <td>NaN</td>\n",
       "      <td>NaN</td>\n",
       "      <td>NaN</td>\n",
       "      <td>we 're going to have a traditional margherita ...</td>\n",
       "    </tr>\n",
       "    <tr>\n",
       "      <th>4</th>\n",
       "      <td>5</td>\n",
       "      <td>pizza marghetta</td>\n",
       "      <td>https://www.youtube.com/watch?v=FHvZgt3ExDI</td>\n",
       "      <td>00:15.9</td>\n",
       "      <td>so this is the dough.</td>\n",
       "      <td>4</td>\n",
       "      <td>0</td>\n",
       "      <td>NaN</td>\n",
       "      <td>NaN</td>\n",
       "      <td>NaN</td>\n",
       "      <td>NaN</td>\n",
       "      <td>NaN</td>\n",
       "      <td>NaN</td>\n",
       "      <td>NaN</td>\n",
       "      <td>so the dough is the dough.</td>\n",
       "    </tr>\n",
       "    <tr>\n",
       "      <th>...</th>\n",
       "      <td>...</td>\n",
       "      <td>...</td>\n",
       "      <td>...</td>\n",
       "      <td>...</td>\n",
       "      <td>...</td>\n",
       "      <td>...</td>\n",
       "      <td>...</td>\n",
       "      <td>...</td>\n",
       "      <td>...</td>\n",
       "      <td>...</td>\n",
       "      <td>...</td>\n",
       "      <td>...</td>\n",
       "      <td>...</td>\n",
       "      <td>...</td>\n",
       "      <td>...</td>\n",
       "    </tr>\n",
       "    <tr>\n",
       "      <th>15506</th>\n",
       "      <td>15519</td>\n",
       "      <td>fried chicken</td>\n",
       "      <td>https://www.youtube.com/watch?v=hXkepSgN_zo</td>\n",
       "      <td>02:56.1</td>\n",
       "      <td>if you have one it makes cleanup that much eas...</td>\n",
       "      <td>9</td>\n",
       "      <td>0</td>\n",
       "      <td>NaN</td>\n",
       "      <td>NaN</td>\n",
       "      <td>NaN</td>\n",
       "      <td>NaN</td>\n",
       "      <td>NaN</td>\n",
       "      <td>NaN</td>\n",
       "      <td>NaN</td>\n",
       "      <td>if you have one a splatter screen makes cleanu...</td>\n",
       "    </tr>\n",
       "    <tr>\n",
       "      <th>15507</th>\n",
       "      <td>15520</td>\n",
       "      <td>fried chicken</td>\n",
       "      <td>https://www.youtube.com/watch?v=hXkepSgN_zo</td>\n",
       "      <td>02:59.4</td>\n",
       "      <td>pieces , several times during the cooking time...</td>\n",
       "      <td>10</td>\n",
       "      <td>1</td>\n",
       "      <td>drain chicken</td>\n",
       "      <td>drain</td>\n",
       "      <td>chicken</td>\n",
       "      <td>NaN</td>\n",
       "      <td>NaN</td>\n",
       "      <td>NaN</td>\n",
       "      <td>NaN</td>\n",
       "      <td>pieces , several times during the cooking time...</td>\n",
       "    </tr>\n",
       "    <tr>\n",
       "      <th>15508</th>\n",
       "      <td>15521</td>\n",
       "      <td>fried chicken</td>\n",
       "      <td>https://www.youtube.com/watch?v=hXkepSgN_zo</td>\n",
       "      <td>03:33.8</td>\n",
       "      <td>several allrecipes members suggested adding on...</td>\n",
       "      <td>11</td>\n",
       "      <td>0</td>\n",
       "      <td>NaN</td>\n",
       "      <td>NaN</td>\n",
       "      <td>NaN</td>\n",
       "      <td>NaN</td>\n",
       "      <td>NaN</td>\n",
       "      <td>NaN</td>\n",
       "      <td>NaN</td>\n",
       "      <td>several allrecipes members suggested adding on...</td>\n",
       "    </tr>\n",
       "    <tr>\n",
       "      <th>15509</th>\n",
       "      <td>15522</td>\n",
       "      <td>fried chicken</td>\n",
       "      <td>https://www.youtube.com/watch?v=hXkepSgN_zo</td>\n",
       "      <td>03:43.4</td>\n",
       "      <td>anyway , you season it.</td>\n",
       "      <td>12</td>\n",
       "      <td>1</td>\n",
       "      <td>season chicken</td>\n",
       "      <td>season</td>\n",
       "      <td>chicken</td>\n",
       "      <td>NaN</td>\n",
       "      <td>NaN</td>\n",
       "      <td>NaN</td>\n",
       "      <td>NaN</td>\n",
       "      <td>anyway , you season it.</td>\n",
       "    </tr>\n",
       "    <tr>\n",
       "      <th>15510</th>\n",
       "      <td>15523</td>\n",
       "      <td>fried chicken</td>\n",
       "      <td>https://www.youtube.com/watch?v=hXkepSgN_zo</td>\n",
       "      <td>03:44.8</td>\n",
       "      <td>golden brown southern fried chicken is a winner.</td>\n",
       "      <td>13</td>\n",
       "      <td>0</td>\n",
       "      <td>NaN</td>\n",
       "      <td>NaN</td>\n",
       "      <td>NaN</td>\n",
       "      <td>NaN</td>\n",
       "      <td>NaN</td>\n",
       "      <td>NaN</td>\n",
       "      <td>NaN</td>\n",
       "      <td>golden brown southern fried chicken is a winner .</td>\n",
       "    </tr>\n",
       "  </tbody>\n",
       "</table>\n",
       "<p>15511 rows × 15 columns</p>\n",
       "</div>"
      ],
      "text/plain": [
       "          No            Title                                     VideoUrl  \\\n",
       "0          1  pizza marghetta  https://www.youtube.com/watch?v=FHvZgt3ExDI   \n",
       "1          2  pizza marghetta  https://www.youtube.com/watch?v=FHvZgt3ExDI   \n",
       "2          3  pizza marghetta  https://www.youtube.com/watch?v=FHvZgt3ExDI   \n",
       "3          4  pizza marghetta  https://www.youtube.com/watch?v=FHvZgt3ExDI   \n",
       "4          5  pizza marghetta  https://www.youtube.com/watch?v=FHvZgt3ExDI   \n",
       "...      ...              ...                                          ...   \n",
       "15506  15519    fried chicken  https://www.youtube.com/watch?v=hXkepSgN_zo   \n",
       "15507  15520    fried chicken  https://www.youtube.com/watch?v=hXkepSgN_zo   \n",
       "15508  15521    fried chicken  https://www.youtube.com/watch?v=hXkepSgN_zo   \n",
       "15509  15522    fried chicken  https://www.youtube.com/watch?v=hXkepSgN_zo   \n",
       "15510  15523    fried chicken  https://www.youtube.com/watch?v=hXkepSgN_zo   \n",
       "\n",
       "      TimeStamp                                           Sentence  RowNumber  \\\n",
       "0       00:00.1                      guys , jason hill here today.          0   \n",
       "1       00:01.5  and i 'm with chef great stillman at repor res...          1   \n",
       "2       00:07.3                         what are we going to have?          2   \n",
       "3       00:08.2  we 're going to have a traditional margherita ...          3   \n",
       "4       00:15.9                              so this is the dough.          4   \n",
       "...         ...                                                ...        ...   \n",
       "15506   02:56.1  if you have one it makes cleanup that much eas...          9   \n",
       "15507   02:59.4  pieces , several times during the cooking time...         10   \n",
       "15508   03:33.8  several allrecipes members suggested adding on...         11   \n",
       "15509   03:43.4                            anyway , you season it.         12   \n",
       "15510   03:44.8   golden brown southern fried chicken is a winner.         13   \n",
       "\n",
       "       IsUsefulSentence       Key steps     Verb  \\\n",
       "0                     0             NaN      NaN   \n",
       "1                     0             NaN      NaN   \n",
       "2                     0             NaN      NaN   \n",
       "3                     0             NaN      NaN   \n",
       "4                     0             NaN      NaN   \n",
       "...                 ...             ...      ...   \n",
       "15506                 0             NaN      NaN   \n",
       "15507                 1   drain chicken    drain   \n",
       "15508                 0             NaN      NaN   \n",
       "15509                 1  season chicken  season    \n",
       "15510                 0             NaN      NaN   \n",
       "\n",
       "      Object(directly related with Verb) Location Time Temperature  \\\n",
       "0                                    NaN      NaN  NaN         NaN   \n",
       "1                                    NaN      NaN  NaN         NaN   \n",
       "2                                    NaN      NaN  NaN         NaN   \n",
       "3                                    NaN      NaN  NaN         NaN   \n",
       "4                                    NaN      NaN  NaN         NaN   \n",
       "...                                  ...      ...  ...         ...   \n",
       "15506                                NaN      NaN  NaN         NaN   \n",
       "15507                            chicken      NaN  NaN         NaN   \n",
       "15508                                NaN      NaN  NaN         NaN   \n",
       "15509                            chicken      NaN  NaN         NaN   \n",
       "15510                                NaN      NaN  NaN         NaN   \n",
       "\n",
       "      Other important phrase(like with  \\\n",
       "0                                  NaN   \n",
       "1                                  NaN   \n",
       "2                                  NaN   \n",
       "3                                  NaN   \n",
       "4                                  NaN   \n",
       "...                                ...   \n",
       "15506                              NaN   \n",
       "15507                              NaN   \n",
       "15508                              NaN   \n",
       "15509                              NaN   \n",
       "15510                              NaN   \n",
       "\n",
       "                                          Sentence_Coref  \n",
       "0                          guys , jason hill here today.  \n",
       "1      and i ' m with chef great stillman at repor re...  \n",
       "2                             what are we going to have?  \n",
       "3      we 're going to have a traditional margherita ...  \n",
       "4                             so the dough is the dough.  \n",
       "...                                                  ...  \n",
       "15506  if you have one a splatter screen makes cleanu...  \n",
       "15507  pieces , several times during the cooking time...  \n",
       "15508  several allrecipes members suggested adding on...  \n",
       "15509                            anyway , you season it.  \n",
       "15510  golden brown southern fried chicken is a winner .  \n",
       "\n",
       "[15511 rows x 15 columns]"
      ]
     },
     "execution_count": 340,
     "metadata": {},
     "output_type": "execute_result"
    }
   ],
   "source": [
    "df"
   ]
  },
  {
   "cell_type": "code",
   "execution_count": 338,
   "id": "916585d6",
   "metadata": {},
   "outputs": [],
   "source": [
    "# Save aligned coref sentences \n",
    "df.to_csv(DATA_DIR / \"reviewed_0812_coref_aligned.csv\", index=False)"
   ]
  },
  {
   "cell_type": "code",
   "execution_count": null,
   "id": "e0ce7ffa",
   "metadata": {},
   "outputs": [],
   "source": []
  }
 ],
 "metadata": {
  "kernelspec": {
   "display_name": "Python 3",
   "language": "python",
   "name": "python3"
  },
  "language_info": {
   "codemirror_mode": {
    "name": "ipython",
    "version": 3
   },
   "file_extension": ".py",
   "mimetype": "text/x-python",
   "name": "python",
   "nbconvert_exporter": "python",
   "pygments_lexer": "ipython3",
   "version": "3.8.5"
  }
 },
 "nbformat": 4,
 "nbformat_minor": 5
}
