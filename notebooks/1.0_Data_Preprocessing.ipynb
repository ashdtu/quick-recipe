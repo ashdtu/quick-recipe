{
 "cells": [
  {
   "cell_type": "code",
   "execution_count": 16,
   "id": "d0aa8a29",
   "metadata": {},
   "outputs": [],
   "source": [
    "from pathlib import Path\n",
    "import pandas as pd\n",
    "import json"
   ]
  },
  {
   "cell_type": "markdown",
   "id": "149a2569",
   "metadata": {},
   "source": [
    "## Analyse the data files"
   ]
  },
  {
   "cell_type": "markdown",
   "id": "37ab51d0",
   "metadata": {},
   "source": [
    "### reviewed_0812.csv (352 videos)"
   ]
  },
  {
   "cell_type": "code",
   "execution_count": 4,
   "id": "ac1abbf3",
   "metadata": {},
   "outputs": [],
   "source": [
    "DATA_DIR = Path().cwd().parent / 'youcook2'"
   ]
  },
  {
   "cell_type": "code",
   "execution_count": 9,
   "id": "ea74cabc",
   "metadata": {},
   "outputs": [],
   "source": [
    "df = pd.read_csv(str(DATA_DIR / 'reviewed_0812.csv'))"
   ]
  },
  {
   "cell_type": "code",
   "execution_count": 15,
   "id": "4c54301a",
   "metadata": {},
   "outputs": [
    {
     "data": {
      "text/html": [
       "<div>\n",
       "<style scoped>\n",
       "    .dataframe tbody tr th:only-of-type {\n",
       "        vertical-align: middle;\n",
       "    }\n",
       "\n",
       "    .dataframe tbody tr th {\n",
       "        vertical-align: top;\n",
       "    }\n",
       "\n",
       "    .dataframe thead th {\n",
       "        text-align: right;\n",
       "    }\n",
       "</style>\n",
       "<table border=\"1\" class=\"dataframe\">\n",
       "  <thead>\n",
       "    <tr style=\"text-align: right;\">\n",
       "      <th></th>\n",
       "      <th>No</th>\n",
       "      <th>Title</th>\n",
       "      <th>VideoUrl</th>\n",
       "      <th>TimeStamp</th>\n",
       "      <th>Sentence</th>\n",
       "      <th>RowNumber</th>\n",
       "      <th>IsUsefulSentence</th>\n",
       "      <th>Key steps</th>\n",
       "      <th>Verb</th>\n",
       "      <th>Object(directly related with Verb)</th>\n",
       "      <th>Location</th>\n",
       "      <th>Time</th>\n",
       "      <th>Temperature</th>\n",
       "      <th>Other important phrase(like with</th>\n",
       "    </tr>\n",
       "  </thead>\n",
       "  <tbody>\n",
       "    <tr>\n",
       "      <th>0</th>\n",
       "      <td>1</td>\n",
       "      <td>pizza marghetta</td>\n",
       "      <td>https://www.youtube.com/watch?v=FHvZgt3ExDI</td>\n",
       "      <td>00:00.1</td>\n",
       "      <td>guys , jason hill here today.</td>\n",
       "      <td>0</td>\n",
       "      <td>0</td>\n",
       "      <td>NaN</td>\n",
       "      <td>NaN</td>\n",
       "      <td>NaN</td>\n",
       "      <td>NaN</td>\n",
       "      <td>NaN</td>\n",
       "      <td>NaN</td>\n",
       "      <td>NaN</td>\n",
       "    </tr>\n",
       "    <tr>\n",
       "      <th>1</th>\n",
       "      <td>2</td>\n",
       "      <td>pizza marghetta</td>\n",
       "      <td>https://www.youtube.com/watch?v=FHvZgt3ExDI</td>\n",
       "      <td>00:01.5</td>\n",
       "      <td>and i 'm with chef great stillman at repor res...</td>\n",
       "      <td>1</td>\n",
       "      <td>0</td>\n",
       "      <td>NaN</td>\n",
       "      <td>NaN</td>\n",
       "      <td>NaN</td>\n",
       "      <td>NaN</td>\n",
       "      <td>NaN</td>\n",
       "      <td>NaN</td>\n",
       "      <td>NaN</td>\n",
       "    </tr>\n",
       "    <tr>\n",
       "      <th>2</th>\n",
       "      <td>3</td>\n",
       "      <td>pizza marghetta</td>\n",
       "      <td>https://www.youtube.com/watch?v=FHvZgt3ExDI</td>\n",
       "      <td>00:07.3</td>\n",
       "      <td>what are we going to have?</td>\n",
       "      <td>2</td>\n",
       "      <td>0</td>\n",
       "      <td>NaN</td>\n",
       "      <td>NaN</td>\n",
       "      <td>NaN</td>\n",
       "      <td>NaN</td>\n",
       "      <td>NaN</td>\n",
       "      <td>NaN</td>\n",
       "      <td>NaN</td>\n",
       "    </tr>\n",
       "    <tr>\n",
       "      <th>3</th>\n",
       "      <td>4</td>\n",
       "      <td>pizza marghetta</td>\n",
       "      <td>https://www.youtube.com/watch?v=FHvZgt3ExDI</td>\n",
       "      <td>00:08.2</td>\n",
       "      <td>we 're going to have a traditional margherita ...</td>\n",
       "      <td>3</td>\n",
       "      <td>0</td>\n",
       "      <td>NaN</td>\n",
       "      <td>NaN</td>\n",
       "      <td>NaN</td>\n",
       "      <td>NaN</td>\n",
       "      <td>NaN</td>\n",
       "      <td>NaN</td>\n",
       "      <td>NaN</td>\n",
       "    </tr>\n",
       "    <tr>\n",
       "      <th>4</th>\n",
       "      <td>5</td>\n",
       "      <td>pizza marghetta</td>\n",
       "      <td>https://www.youtube.com/watch?v=FHvZgt3ExDI</td>\n",
       "      <td>00:15.9</td>\n",
       "      <td>so this is the dough.</td>\n",
       "      <td>4</td>\n",
       "      <td>0</td>\n",
       "      <td>NaN</td>\n",
       "      <td>NaN</td>\n",
       "      <td>NaN</td>\n",
       "      <td>NaN</td>\n",
       "      <td>NaN</td>\n",
       "      <td>NaN</td>\n",
       "      <td>NaN</td>\n",
       "    </tr>\n",
       "  </tbody>\n",
       "</table>\n",
       "</div>"
      ],
      "text/plain": [
       "   No            Title                                     VideoUrl TimeStamp  \\\n",
       "0   1  pizza marghetta  https://www.youtube.com/watch?v=FHvZgt3ExDI   00:00.1   \n",
       "1   2  pizza marghetta  https://www.youtube.com/watch?v=FHvZgt3ExDI   00:01.5   \n",
       "2   3  pizza marghetta  https://www.youtube.com/watch?v=FHvZgt3ExDI   00:07.3   \n",
       "3   4  pizza marghetta  https://www.youtube.com/watch?v=FHvZgt3ExDI   00:08.2   \n",
       "4   5  pizza marghetta  https://www.youtube.com/watch?v=FHvZgt3ExDI   00:15.9   \n",
       "\n",
       "                                            Sentence  RowNumber  \\\n",
       "0                      guys , jason hill here today.          0   \n",
       "1  and i 'm with chef great stillman at repor res...          1   \n",
       "2                         what are we going to have?          2   \n",
       "3  we 're going to have a traditional margherita ...          3   \n",
       "4                              so this is the dough.          4   \n",
       "\n",
       "   IsUsefulSentence Key steps Verb Object(directly related with Verb)  \\\n",
       "0                 0       NaN  NaN                                NaN   \n",
       "1                 0       NaN  NaN                                NaN   \n",
       "2                 0       NaN  NaN                                NaN   \n",
       "3                 0       NaN  NaN                                NaN   \n",
       "4                 0       NaN  NaN                                NaN   \n",
       "\n",
       "  Location Time Temperature Other important phrase(like with  \n",
       "0      NaN  NaN         NaN                              NaN  \n",
       "1      NaN  NaN         NaN                              NaN  \n",
       "2      NaN  NaN         NaN                              NaN  \n",
       "3      NaN  NaN         NaN                              NaN  \n",
       "4      NaN  NaN         NaN                              NaN  "
      ]
     },
     "execution_count": 15,
     "metadata": {},
     "output_type": "execute_result"
    }
   ],
   "source": [
    "df.head()"
   ]
  },
  {
   "cell_type": "code",
   "execution_count": 14,
   "id": "439955b2",
   "metadata": {},
   "outputs": [
    {
     "data": {
      "text/plain": [
       "352"
      ]
     },
     "execution_count": 14,
     "metadata": {},
     "output_type": "execute_result"
    }
   ],
   "source": [
    "len(df['VideoUrl'].unique().tolist())"
   ]
  },
  {
   "cell_type": "markdown",
   "id": "0226ae8a",
   "metadata": {},
   "source": [
    "### Filtered Captions for the 1736 videos"
   ]
  },
  {
   "cell_type": "code",
   "execution_count": 19,
   "id": "7fe1fb58",
   "metadata": {},
   "outputs": [],
   "source": [
    "with open(str(DATA_DIR / '2.cooking_vocab_filtered_captions.tmp.json')) as f:\n",
    "    filtered_captions = json.load(f)"
   ]
  },
  {
   "cell_type": "code",
   "execution_count": 39,
   "id": "ceb6e605",
   "metadata": {},
   "outputs": [],
   "source": [
    "num_training = 0\n",
    "num_validation = 0\n",
    "for caption in filtered_captions:\n",
    "    if caption['partition'] == 'training':\n",
    "        num_training += 1\n",
    "    elif caption['partition'] == 'validation':\n",
    "        num_validation += 1"
   ]
  },
  {
   "cell_type": "code",
   "execution_count": 40,
   "id": "c1426706",
   "metadata": {},
   "outputs": [
    {
     "data": {
      "text/plain": [
       "1293"
      ]
     },
     "execution_count": 40,
     "metadata": {},
     "output_type": "execute_result"
    }
   ],
   "source": [
    "num_training"
   ]
  },
  {
   "cell_type": "code",
   "execution_count": 41,
   "id": "4d4d0a97",
   "metadata": {},
   "outputs": [
    {
     "data": {
      "text/plain": [
       "443"
      ]
     },
     "execution_count": 41,
     "metadata": {},
     "output_type": "execute_result"
    }
   ],
   "source": [
    "num_validation"
   ]
  },
  {
   "cell_type": "code",
   "execution_count": 24,
   "id": "13fe9912",
   "metadata": {},
   "outputs": [
    {
     "data": {
      "text/plain": [
       "1736"
      ]
     },
     "execution_count": 24,
     "metadata": {},
     "output_type": "execute_result"
    }
   ],
   "source": [
    "len(filtered_captions)"
   ]
  },
  {
   "cell_type": "code",
   "execution_count": 23,
   "id": "2c462f63",
   "metadata": {},
   "outputs": [
    {
     "data": {
      "text/plain": [
       "{'partition': 'training',\n",
       " 'youtube_id': '--bv0V6ZjWI',\n",
       " 'total_frame': 9972,\n",
       " 'url': 'https://www.youtube.com/watch?v=--bv0V6ZjWI',\n",
       " 'recipe_type': '205',\n",
       " 'caption_transcript_pair_list': [{'id': 0,\n",
       "   'sentence': 'crush and chop the garlic',\n",
       "   'cooking_vocab_tokens': ['crush', 'chop', 'garlic'],\n",
       "   'segment': [8000, 23000],\n",
       "   'transcript_tokens': [{'segment': [7380, 8140],\n",
       "     'text': 'now check this out.'},\n",
       "    {'segment': [9380, 25860],\n",
       "     'text': \"we 're going to start out this recipe with garlic chop, it up, real fine now in a bowl full.\"}]},\n",
       "  {'id': 1,\n",
       "   'sentence': 'add oil garlic and salt to a bowl',\n",
       "   'cooking_vocab_tokens': ['add', 'oil', 'garlic', 'salt', 'bowl'],\n",
       "   'segment': [23000, 47000],\n",
       "   'transcript_tokens': [{'segment': [9380, 25860],\n",
       "     'text': \"we 're going to start out this recipe with garlic chop, it up, real fine now in a bowl full.\"},\n",
       "    {'segment': [26100, 41830],\n",
       "     'text': 'some olive oil more at R garlic, little bit of the salt, i will serve that together real well.'},\n",
       "    {'segment': [46190, 56390],\n",
       "     'text': \"one more olive oil, now once that starred in you want to taste it make sure it 's not too.\"}]},\n",
       "  {'id': 2,\n",
       "   'sentence': 'mix the tomoatoes with the oil mixture',\n",
       "   'cooking_vocab_tokens': ['mix', 'oil', 'mixture'],\n",
       "   'segment': [64000, 76000],\n",
       "   'transcript_tokens': [{'segment': [56610, 69310],\n",
       "     'text': \"salty , next thing you want to do is get your tomatoes about this thing here we 're going to marinate those and this olive oil garlic and salt mixture.\"},\n",
       "    {'segment': [70540, 76590],\n",
       "     'text': \"that 's what 's really going to give this margarita pizza its flavor once the sternaman, real good.\"}]},\n",
       "  {'id': 3,\n",
       "   'sentence': 'chop the basil',\n",
       "   'cooking_vocab_tokens': ['chop', 'basil'],\n",
       "   'segment': [81000, 90000],\n",
       "   'transcript_tokens': [{'segment': [76990, 82990],\n",
       "     'text': 'just let him sit for about ten to twenty minutes now.'},\n",
       "    {'segment': [83520, 87650],\n",
       "     'text': 'fresh basil, do not use dried dehydrated basil?'},\n",
       "    {'segment': [88530, 93210],\n",
       "     'text': \"fresh basil only and here 's your pizza dough.\"}]},\n",
       "  {'id': 4,\n",
       "   'sentence': 'spread the oil mixture onto the dough',\n",
       "   'cooking_vocab_tokens': ['spread', 'oil', 'mixture', 'dough'],\n",
       "   'segment': [90000, 116000],\n",
       "   'transcript_tokens': [{'segment': [88530, 93210],\n",
       "     'text': \"fresh basil only and here 's your pizza dough.\"},\n",
       "    {'segment': [93950, 94790], 'text': 'and are marinated tomatoes.'},\n",
       "    {'segment': [96410, 104610],\n",
       "     'text': \"we 're going to do is best off the tomatoes and just drizzle all of the marinated garlic oil over the top of the pizza.\"},\n",
       "    {'segment': [104990, 108850],\n",
       "     'text': \"here , because that 's going to be our sauce that 's going to create such a flavor.\"},\n",
       "    {'segment': [109310, 110250], 'text': \"he just wo n't believe it.\"},\n",
       "    {'segment': [111730, 120070],\n",
       "     'text': 'an incredible just know that in with the back of your spoon, the same, you would any pizza.'}]},\n",
       "  {'id': 5,\n",
       "   'sentence': 'place provolone cheese and mozzarella cheese onto the dough',\n",
       "   'cooking_vocab_tokens': ['place',\n",
       "    'provolone',\n",
       "    'cheese',\n",
       "    'mozzarella',\n",
       "    'cheese',\n",
       "    'dough'],\n",
       "   'segment': [131000, 153000],\n",
       "   'transcript_tokens': [{'segment': [134140, 142610],\n",
       "     'text': 'i wanna throw that down here want to top that with some mozzarella.'},\n",
       "    {'segment': [150820, 155540],\n",
       "     'text': \"i 'm real picky with it 's a more perfect pizzas.\"}]},\n",
       "  {'id': 6,\n",
       "   'sentence': 'add the basil to the pizza',\n",
       "   'cooking_vocab_tokens': ['add', 'basil', 'pizza'],\n",
       "   'segment': [162000, 180000],\n",
       "   'transcript_tokens': [{'segment': [156000, 164010],\n",
       "     'text': 'and are, you know, now are fresh basil.'},\n",
       "    {'segment': [166620, 185210],\n",
       "     'text': \"my hands are wet so it 's going to stick it in my fingers, but to spread it out evenly just like you would n't cheese now are, tomatoes.\"}]},\n",
       "  {'id': 7,\n",
       "   'sentence': 'place the tomatoes on the pizza',\n",
       "   'cooking_vocab_tokens': ['place', 'tomatoes', 'pizza'],\n",
       "   'segment': [184000, 199000],\n",
       "   'transcript_tokens': [{'segment': [166620, 185210],\n",
       "     'text': \"my hands are wet so it 's going to stick it in my fingers, but to spread it out evenly just like you would n't cheese now are, tomatoes.\"},\n",
       "    {'segment': [187190, 200080],\n",
       "     'text': 'i just spread him out like pepperoni, and once again.'}]},\n",
       "  {'id': 8,\n",
       "   'sentence': 'sprinkle cheese onto the pizza',\n",
       "   'cooking_vocab_tokens': ['sprinkle', 'cheese', 'pizza'],\n",
       "   'segment': [222000, 232000],\n",
       "   'transcript_tokens': [{'segment': [220630, 228450],\n",
       "     'text': 'but not least will just go ahead and top it off with just a little bit more mozzarella for it to just mountain and fuse all those flavors together.'}]},\n",
       "  {'id': 9,\n",
       "   'sentence': 'bake the pizza in an oven',\n",
       "   'cooking_vocab_tokens': ['bake', 'pizza', 'oven'],\n",
       "   'segment': [232000, 250000],\n",
       "   'transcript_tokens': [{'segment': [235690, 252780],\n",
       "     'text': 'and after the oven, i throw it on the bottom rack there, five fifty for about six minutes, and now she comes still , sizzlin.'}]}],\n",
       " 'guid': '12dec85b-c9e1-3eae-9c48-6d8946d71d36',\n",
       " 'duration': 332460}"
      ]
     },
     "execution_count": 23,
     "metadata": {},
     "output_type": "execute_result"
    }
   ],
   "source": [
    "filtered_captions[0]"
   ]
  },
  {
   "cell_type": "code",
   "execution_count": 27,
   "id": "e886a32b",
   "metadata": {},
   "outputs": [],
   "source": [
    "with open(str(DATA_DIR / '2.cooking_vocab_filtered_captions.tmp.json.matched.json')) as f:\n",
    "    filtered_matched_captions = json.load(f)"
   ]
  },
  {
   "cell_type": "code",
   "execution_count": 30,
   "id": "05dfe481",
   "metadata": {},
   "outputs": [
    {
     "data": {
      "text/plain": [
       "13272"
      ]
     },
     "execution_count": 30,
     "metadata": {},
     "output_type": "execute_result"
    }
   ],
   "source": [
    "len(filtered_matched_captions)"
   ]
  },
  {
   "cell_type": "code",
   "execution_count": 38,
   "id": "fecf2dfa",
   "metadata": {},
   "outputs": [
    {
     "data": {
      "text/plain": [
       "{'vid_id': '--bv0V6ZjWI',\n",
       " 'caption_id': 1,\n",
       " 'transcript': [\"we 're going to start out this recipe with garlic chop, it up, real fine now in a bowl full.\",\n",
       "  'some olive oil more at R garlic, little bit of the salt, i will serve that together real well.',\n",
       "  \"one more olive oil, now once that starred in you want to taste it make sure it 's not too.\"],\n",
       " 'caption_sent': 'add oil garlic and salt to a bowl',\n",
       " 'caption_tokens': ['add', 'oil', 'garlic', 'and', 'salt', 'to', 'a', 'bowl'],\n",
       " 'transcript_tokens': [['we',\n",
       "   \"'re\",\n",
       "   'going',\n",
       "   'to',\n",
       "   'start',\n",
       "   'out',\n",
       "   'this',\n",
       "   'recipe',\n",
       "   'with',\n",
       "   'garlic',\n",
       "   'chop',\n",
       "   ',',\n",
       "   'it',\n",
       "   'up',\n",
       "   ',',\n",
       "   'real',\n",
       "   'fine',\n",
       "   'now',\n",
       "   'in',\n",
       "   'a',\n",
       "   'bowl',\n",
       "   'full',\n",
       "   '.'],\n",
       "  ['some',\n",
       "   'olive',\n",
       "   'oil',\n",
       "   'more',\n",
       "   'at',\n",
       "   'R',\n",
       "   'garlic',\n",
       "   ',',\n",
       "   'little',\n",
       "   'bit',\n",
       "   'of',\n",
       "   'the',\n",
       "   'salt',\n",
       "   ',',\n",
       "   'i',\n",
       "   'will',\n",
       "   'serve',\n",
       "   'that',\n",
       "   'together',\n",
       "   'real',\n",
       "   'well',\n",
       "   '.'],\n",
       "  ['one',\n",
       "   'more',\n",
       "   'olive',\n",
       "   'oil',\n",
       "   ',',\n",
       "   'now',\n",
       "   'once',\n",
       "   'that',\n",
       "   'starred',\n",
       "   'in',\n",
       "   'you',\n",
       "   'want',\n",
       "   'to',\n",
       "   'taste',\n",
       "   'it',\n",
       "   'make',\n",
       "   'sure',\n",
       "   'it',\n",
       "   \"'s\",\n",
       "   'not',\n",
       "   'too',\n",
       "   '.']],\n",
       " 'transcript_sen_ids': [2, 3, 4],\n",
       " 'src_matched': {'span': ['olive',\n",
       "   'oil',\n",
       "   'more',\n",
       "   'at',\n",
       "   'R',\n",
       "   'garlic',\n",
       "   ',',\n",
       "   'little',\n",
       "   'bit',\n",
       "   'of',\n",
       "   'the',\n",
       "   'salt'],\n",
       "  'src_sens_id': 3,\n",
       "  'start': 1,\n",
       "  'K': 12}}"
      ]
     },
     "execution_count": 38,
     "metadata": {},
     "output_type": "execute_result"
    }
   ],
   "source": [
    "filtered_matched_captions[1]"
   ]
  },
  {
   "cell_type": "code",
   "execution_count": null,
   "id": "ea45e358",
   "metadata": {},
   "outputs": [],
   "source": []
  }
 ],
 "metadata": {
  "kernelspec": {
   "display_name": "Python 3",
   "language": "python",
   "name": "python3"
  },
  "language_info": {
   "codemirror_mode": {
    "name": "ipython",
    "version": 3
   },
   "file_extension": ".py",
   "mimetype": "text/x-python",
   "name": "python",
   "nbconvert_exporter": "python",
   "pygments_lexer": "ipython3",
   "version": "3.8.5"
  }
 },
 "nbformat": 4,
 "nbformat_minor": 5
}
