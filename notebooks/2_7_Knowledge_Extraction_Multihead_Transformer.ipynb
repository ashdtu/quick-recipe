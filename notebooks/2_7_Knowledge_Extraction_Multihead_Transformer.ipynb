{
 "cells": [
  {
   "cell_type": "code",
   "execution_count": 2,
   "id": "a4aafe2d",
   "metadata": {},
   "outputs": [
    {
     "name": "stderr",
     "output_type": "stream",
     "text": [
      "/Users/jonathanlim/.local/lib/python3.8/site-packages/pandas/core/computation/expressions.py:20: UserWarning: Pandas requires version '2.7.3' or newer of 'numexpr' (version '2.7.1' currently installed).\n",
      "  from pandas.core.computation.check import NUMEXPR_INSTALLED\n"
     ]
    }
   ],
   "source": [
    "import pandas as pd\n",
    "\n",
    "from pathlib import Path"
   ]
  },
  {
   "cell_type": "code",
   "execution_count": 3,
   "id": "7dd7a36d",
   "metadata": {},
   "outputs": [],
   "source": [
    "PROJ_DIR = Path.cwd().parent\n",
    "DATA_DIR = PROJ_DIR / 'data'\n",
    "LOG_DIR = PROJ_DIR / 'logs'\n",
    "\n",
    "LOG_DIR.mkdir(parents=True, exist_ok=True) \n",
    "LOG_SAVE_DIR = LOG_DIR / 'youcook_multihead_transformer'"
   ]
  },
  {
   "cell_type": "code",
   "execution_count": 16,
   "id": "2ae292b5",
   "metadata": {},
   "outputs": [],
   "source": [
    "master_df = pd.read_pickle(DATA_DIR / 'full_master_updated.pkl')\n",
    "val_df = pd.read_csv(str(LOG_SAVE_DIR / 'val_performance.csv'))"
   ]
  },
  {
   "cell_type": "markdown",
   "id": "b96ffff6",
   "metadata": {},
   "source": [
    "## Generate Knowledge Extraction metrics based on best Key-clip Prediction model's predictions"
   ]
  },
  {
   "cell_type": "code",
   "execution_count": 17,
   "id": "2737a2d1",
   "metadata": {},
   "outputs": [],
   "source": [
    "def best_keyclip_prediction_true_positives(row):\n",
    "    return row['true_positives'] if row['IsPredUseful'] == 1 else 0\n",
    "\n",
    "def generate_metrics_from_master_and_val_df(master_df, val_df, master_key='Sentence', val_key='text'):\n",
    "  combined_df = pd.merge(master_df, val_df, left_on=master_key, right_on=val_key, how='inner')\n",
    "  combined_df['best_kc_pred_true_positives'] = combined_df.apply(lambda row: best_keyclip_prediction_true_positives(row), axis=1)\n",
    "  total_num_gold = combined_df['num_gold'].sum()\n",
    "  total_num_predicted = combined_df['num_predicted'].sum()\n",
    "  total_true_pos = combined_df['best_kc_pred_true_positives'].sum()\n",
    "  precision = round(total_true_pos / total_num_predicted, 2)\n",
    "  recall = round(total_true_pos / total_num_gold, 2)\n",
    "  f1 = round(2*(precision*recall) / (precision+recall), 2)\n",
    "\n",
    "  print(f\"Total true positives (predicted words overlap with gold words): {total_true_pos}\")\n",
    "  print(f\"Total predicted words: {total_num_predicted}\")\n",
    "  print(f\"Total gold words: {total_num_gold}\")\n",
    "  print(f\"Precision: {precision}, Recall: {recall}, F1: {f1}\")\n",
    "  \n",
    "  return precision, recall, f1"
   ]
  },
  {
   "cell_type": "code",
   "execution_count": 32,
   "id": "c8f6f932",
   "metadata": {},
   "outputs": [],
   "source": [
    "def get_words(sentence, num=3):\n",
    "    try:\n",
    "        output = \" \".join(sentence.split(\" \")[:num])\n",
    "        return output\n",
    "    except Exception as e:\n",
    "        return \"\""
   ]
  },
  {
   "cell_type": "code",
   "execution_count": 39,
   "id": "e6fe8623",
   "metadata": {},
   "outputs": [],
   "source": [
    "master_df['words'] = master_df['Key steps'].apply(lambda x: get_words(x, num=4))\n",
    "val_df['words'] = val_df['summary'].apply(lambda x: get_words(x, num=4))"
   ]
  },
  {
   "cell_type": "code",
   "execution_count": 40,
   "id": "047efc30",
   "metadata": {},
   "outputs": [
    {
     "name": "stdout",
     "output_type": "stream",
     "text": [
      "Total true positives (predicted words overlap with gold words): 1688\n",
      "Total predicted words: 5657\n",
      "Total gold words: 5466\n",
      "Precision: 0.3, Recall: 0.31, F1: 0.3\n"
     ]
    },
    {
     "data": {
      "text/plain": [
       "(0.3, 0.31, 0.3)"
      ]
     },
     "execution_count": 40,
     "metadata": {},
     "output_type": "execute_result"
    }
   ],
   "source": [
    "generate_metrics_from_master_and_val_df(master_df, val_df, master_key='words', val_key='words')"
   ]
  },
  {
   "cell_type": "code",
   "execution_count": null,
   "id": "afdae8c2",
   "metadata": {},
   "outputs": [],
   "source": []
  }
 ],
 "metadata": {
  "kernelspec": {
   "display_name": "Python 3",
   "language": "python",
   "name": "python3"
  },
  "language_info": {
   "codemirror_mode": {
    "name": "ipython",
    "version": 3
   },
   "file_extension": ".py",
   "mimetype": "text/x-python",
   "name": "python",
   "nbconvert_exporter": "python",
   "pygments_lexer": "ipython3",
   "version": "3.8.5"
  }
 },
 "nbformat": 4,
 "nbformat_minor": 5
}
